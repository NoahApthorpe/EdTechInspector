{
 "cells": [
  {
   "cell_type": "code",
   "execution_count": 1,
   "id": "5a8084be",
   "metadata": {},
   "outputs": [],
   "source": [
    "import json\n",
    "import seaborn as sns \n",
    "import matplotlib.pyplot as plt\n",
    "import pandas as pd"
   ]
  },
  {
   "cell_type": "code",
   "execution_count": 2,
   "id": "f205a5cc",
   "metadata": {},
   "outputs": [],
   "source": [
    "mainfile = \"result_2023_6_8.json\""
   ]
  },
  {
   "cell_type": "code",
   "execution_count": 3,
   "id": "d2232d5b",
   "metadata": {},
   "outputs": [],
   "source": [
    "maindata = []\n",
    "with open(mainfile, 'r') as f:\n",
    "  for entry in f:\n",
    "      oneEntry = json.loads(entry)\n",
    "      maindata.append(oneEntry)"
   ]
  },
  {
   "cell_type": "code",
   "execution_count": 4,
   "id": "2d6b720b",
   "metadata": {},
   "outputs": [],
   "source": [
    "filtered_data = []\n",
    "for d in maindata: \n",
    "  if d.get('report') != None: #not empty\n",
    "    if d.get('report').get('user_id') != None: \n",
    "      filtered_data.append(d)"
   ]
  },
  {
   "cell_type": "code",
   "execution_count": 5,
   "id": "ffb6aeab",
   "metadata": {},
   "outputs": [
    {
     "data": {
      "text/plain": [
       "list"
      ]
     },
     "execution_count": 5,
     "metadata": {},
     "output_type": "execute_result"
    }
   ],
   "source": [
    "type(maindata)"
   ]
  },
  {
   "cell_type": "code",
   "execution_count": 6,
   "id": "3064a262",
   "metadata": {},
   "outputs": [
    {
     "name": "stdout",
     "output_type": "stream",
     "text": [
      "688185 533229\n"
     ]
    }
   ],
   "source": [
    "print(len(maindata),\n",
    "len(filtered_data))"
   ]
  },
  {
   "cell_type": "code",
   "execution_count": 7,
   "id": "684560ca",
   "metadata": {},
   "outputs": [],
   "source": [
    "empty_data = []\n",
    "for d in maindata: \n",
    "    if d.get('report') != None: \n",
    "        if d.get('report').get('user_id') == None:\n",
    "            empty_data.append(d)"
   ]
  },
  {
   "cell_type": "code",
   "execution_count": 8,
   "id": "9ec5eb8e",
   "metadata": {},
   "outputs": [
    {
     "data": {
      "text/plain": [
       "139405"
      ]
     },
     "execution_count": 8,
     "metadata": {},
     "output_type": "execute_result"
    }
   ],
   "source": [
    "len(empty_data)"
   ]
  },
  {
   "cell_type": "code",
   "execution_count": 9,
   "id": "1bae1ef2",
   "metadata": {},
   "outputs": [
    {
     "data": {
      "text/plain": [
       "0.2025690766291041"
      ]
     },
     "execution_count": 9,
     "metadata": {},
     "output_type": "execute_result"
    }
   ],
   "source": [
    "len(empty_data)/len(maindata)"
   ]
  },
  {
   "cell_type": "code",
   "execution_count": 10,
   "id": "4e63cf8c",
   "metadata": {},
   "outputs": [
    {
     "data": {
      "text/plain": [
       "533229"
      ]
     },
     "execution_count": 10,
     "metadata": {},
     "output_type": "execute_result"
    }
   ],
   "source": [
    "len(filtered_data)"
   ]
  },
  {
   "cell_type": "code",
   "execution_count": 11,
   "id": "8a589fd1",
   "metadata": {},
   "outputs": [
    {
     "data": {
      "text/plain": [
       "{'_id': {'$oid': '64471fbb174dab7e4b463c1e'},\n",
       " 'report': {'user_id': 'd1wgiodc53k',\n",
       "  'school_district': 'Hamilton',\n",
       "  'grade': '12',\n",
       "  'request_method': 'GET',\n",
       "  'timestamp': '2023-04-25T00:33:00.951Z',\n",
       "  'leak_url': None,\n",
       "  'initiator_domain': None,\n",
       "  'url_leak_type': None,\n",
       "  'body_leak_type': [],\n",
       "  'tracker_info': {'action': 'ignore',\n",
       "   'reason': 'first party',\n",
       "   'firstParty': True,\n",
       "   'redirectUrl': False,\n",
       "   'matchedRule': None,\n",
       "   'matchedRuleException': False,\n",
       "   'tracker': {'domain': 'gstatic.com',\n",
       "    'owner': {'name': 'Google LLC',\n",
       "     'displayName': 'Google',\n",
       "     'privacyPolicy': 'https://policies.google.com/privacy?hl=en&gl=us',\n",
       "     'url': 'http://google.com'},\n",
       "    'prevalence': 0.502,\n",
       "    'fingerprinting': 2,\n",
       "    'cookies': 0.00112,\n",
       "    'categories': ['Content Delivery', 'Embedded Content'],\n",
       "    'default': 'ignore',\n",
       "    'rules': [{'rule': {}, 'fingerprinting': 3, 'cookies': 0},\n",
       "     {'rule': {}, 'fingerprinting': 3, 'cookies': 0},\n",
       "     {'rule': {}, 'fingerprinting': 0, 'cookies': 0, 'comment': 'pixel'},\n",
       "     {'rule': {}, 'fingerprinting': 0, 'cookies': 0, 'comment': 'pixel'}]},\n",
       "   'fullTrackerDomain': 'fonts.gstatic.com'}}}"
      ]
     },
     "execution_count": 11,
     "metadata": {},
     "output_type": "execute_result"
    }
   ],
   "source": [
    "filtered_data[2]"
   ]
  },
  {
   "cell_type": "code",
   "execution_count": 12,
   "id": "2dc11c57",
   "metadata": {},
   "outputs": [
    {
     "name": "stdout",
     "output_type": "stream",
     "text": [
      "http://google.com\n"
     ]
    }
   ],
   "source": [
    "'''example'''\n",
    "print(filtered_data[0]['report']['tracker_info']['tracker']['owner']['url'])"
   ]
  },
  {
   "cell_type": "code",
   "execution_count": 13,
   "id": "11b5a830",
   "metadata": {},
   "outputs": [
    {
     "name": "stdout",
     "output_type": "stream",
     "text": [
      "288202\n"
     ]
    }
   ],
   "source": [
    "#get all urls in a list\n",
    "urls = []\n",
    "for d in filtered_data: \n",
    "    rep = d['report']\n",
    "    if rep.get('tracker_info') != None: #some reports do not have tracker info\n",
    "        if rep['tracker_info'].get('tracker').get('owner').get('url') != None: #all reports with tracker info, have the following\n",
    "            urls.append(d['report']['tracker_info']['tracker']['owner']['url'])\n",
    "print(len(urls))"
   ]
  },
  {
   "cell_type": "code",
   "execution_count": 14,
   "id": "72d4ba03",
   "metadata": {},
   "outputs": [
    {
     "name": "stdout",
     "output_type": "stream",
     "text": [
      "['http://google.com', 'http://google.com', 'http://google.com', 'http://google.com', 'http://google.com', 'http://google.com', 'http://google.com', 'http://google.com', 'http://google.com', 'http://google.com']\n"
     ]
    }
   ],
   "source": [
    "print(urls[0:10])"
   ]
  },
  {
   "cell_type": "code",
   "execution_count": 15,
   "id": "3021b711",
   "metadata": {},
   "outputs": [
    {
     "data": {
      "text/plain": [
       "0.5404844822768454"
      ]
     },
     "execution_count": 15,
     "metadata": {},
     "output_type": "execute_result"
    }
   ],
   "source": [
    "len(urls)/len(filtered_data)"
   ]
  },
  {
   "cell_type": "code",
   "execution_count": 16,
   "id": "8d0dda7a",
   "metadata": {},
   "outputs": [
    {
     "name": "stdout",
     "output_type": "stream",
     "text": [
      "76\n"
     ]
    }
   ],
   "source": [
    "print(len(set(urls)))"
   ]
  },
  {
   "cell_type": "code",
   "execution_count": 17,
   "id": "eaf26669",
   "metadata": {},
   "outputs": [],
   "source": [
    "def simple_produce_count(list):\n",
    "    count_d = {}\n",
    "    for i in list: \n",
    "        if i in count_d: \n",
    "            a = count_d.get(i)\n",
    "            count_d[i] = a + 1\n",
    "        else: \n",
    "            count_d[i] = 1\n",
    "            \n",
    "    return dict(sorted(count_d.items(), key=lambda x:x[1], reverse = True))"
   ]
  },
  {
   "cell_type": "code",
   "execution_count": 18,
   "id": "89c30421",
   "metadata": {},
   "outputs": [
    {
     "data": {
      "text/plain": [
       "dict"
      ]
     },
     "execution_count": 18,
     "metadata": {},
     "output_type": "execute_result"
    }
   ],
   "source": [
    "type(simple_produce_count(urls))"
   ]
  },
  {
   "cell_type": "code",
   "execution_count": 19,
   "id": "50244ff0",
   "metadata": {},
   "outputs": [
    {
     "ename": "NameError",
     "evalue": "name 'produce_count_dict' is not defined",
     "output_type": "error",
     "traceback": [
      "\u001b[0;31m---------------------------------------------------------------------------\u001b[0m",
      "\u001b[0;31mNameError\u001b[0m                                 Traceback (most recent call last)",
      "\u001b[0;32m/var/folders/2y/dp5r1q0s2l93n6f00_95dlgr0000gn/T/ipykernel_4177/1192210025.py\u001b[0m in \u001b[0;36m<module>\u001b[0;34m\u001b[0m\n\u001b[1;32m      1\u001b[0m \u001b[0;31m#counting how many times a url appears in the reports, and sorting in order\u001b[0m\u001b[0;34m\u001b[0m\u001b[0;34m\u001b[0m\u001b[0m\n\u001b[0;32m----> 2\u001b[0;31m \u001b[0msorted_count_urls\u001b[0m \u001b[0;34m=\u001b[0m \u001b[0mproduce_count_dict\u001b[0m\u001b[0;34m(\u001b[0m\u001b[0murls\u001b[0m\u001b[0;34m)\u001b[0m\u001b[0;34m\u001b[0m\u001b[0;34m\u001b[0m\u001b[0m\n\u001b[0m\u001b[1;32m      3\u001b[0m \u001b[0msorted_count_urls\u001b[0m\u001b[0;34m\u001b[0m\u001b[0;34m\u001b[0m\u001b[0m\n",
      "\u001b[0;31mNameError\u001b[0m: name 'produce_count_dict' is not defined"
     ]
    }
   ],
   "source": [
    "#counting how many times a url appears in the reports, and sorting in order\n",
    "sorted_count_urls = produce_count_dict(urls)\n",
    "sorted_count_urls"
   ]
  },
  {
   "cell_type": "markdown",
   "id": "6d65ad1e",
   "metadata": {},
   "source": [
    "interesting websites from a bird eye view: \n",
    "- a few web add related websites (eg. tradedesk, smartadserver, adyoulike, adform, gumgum)\n",
    "- paypal has 13 findings --> google, amazon also have credit card details\n",
    "\n",
    "also, interesting is to look at the top ones with obscure websites eg. \n",
    " ('http://pubmatic.com', 896), --> media company \"digital marketing\" \n",
    " ('http://sharethrough.com', 301), --> \"human centric programmatic advertising\" \n",
    " \n",
    "I guess this makes sense that these are the ones picked up, as they do collect user data"
   ]
  },
  {
   "cell_type": "markdown",
   "id": "ef45a27f",
   "metadata": {},
   "source": [
    "## What the data is"
   ]
  },
  {
   "cell_type": "code",
   "execution_count": 15,
   "id": "9044c09d",
   "metadata": {},
   "outputs": [
    {
     "data": {
      "text/plain": [
       "{'user_id': 'd1wgiodc53k',\n",
       " 'school_district': 'Hamilton',\n",
       " 'grade': '12',\n",
       " 'request_method': 'GET',\n",
       " 'timestamp': '2023-04-25T00:33:00.951Z',\n",
       " 'leak_url': None,\n",
       " 'initiator_domain': None,\n",
       " 'url_leak_type': None,\n",
       " 'body_leak_type': [],\n",
       " 'tracker_info': {'action': 'ignore',\n",
       "  'reason': 'first party',\n",
       "  'firstParty': True,\n",
       "  'redirectUrl': False,\n",
       "  'matchedRule': None,\n",
       "  'matchedRuleException': False,\n",
       "  'tracker': {'domain': 'gstatic.com',\n",
       "   'owner': {'name': 'Google LLC',\n",
       "    'displayName': 'Google',\n",
       "    'privacyPolicy': 'https://policies.google.com/privacy?hl=en&gl=us',\n",
       "    'url': 'http://google.com'},\n",
       "   'prevalence': 0.502,\n",
       "   'fingerprinting': 2,\n",
       "   'cookies': 0.00112,\n",
       "   'categories': ['Content Delivery', 'Embedded Content'],\n",
       "   'default': 'ignore',\n",
       "   'rules': [{'rule': {}, 'fingerprinting': 3, 'cookies': 0},\n",
       "    {'rule': {}, 'fingerprinting': 3, 'cookies': 0},\n",
       "    {'rule': {}, 'fingerprinting': 0, 'cookies': 0, 'comment': 'pixel'},\n",
       "    {'rule': {}, 'fingerprinting': 0, 'cookies': 0, 'comment': 'pixel'}]},\n",
       "  'fullTrackerDomain': 'fonts.gstatic.com'}}"
      ]
     },
     "execution_count": 15,
     "metadata": {},
     "output_type": "execute_result"
    }
   ],
   "source": [
    "example_report = filtered_data[3]['report']\n",
    "example_report"
   ]
  },
  {
   "cell_type": "code",
   "execution_count": 38,
   "id": "2c5d1842",
   "metadata": {},
   "outputs": [
    {
     "name": "stdout",
     "output_type": "stream",
     "text": [
      "{'https://uchicago.zoom.us/', 'https://player.vimeo.com/', 'https://calendly.com/', 'https://accounts.youtube.com/', 'https://www.citationmachine.net/', 'https://www.nytimes.com/', 'https://eds.p.ebscohost.com/', 'https://platform.twitter.com/', 'https://www.duolingo.com/', 'https://mail.google.com/', 'https://widgets.ebscohost.com/', 'https://sdc-evs.ebscohost.com/', 'https://create.microsoft.com/', 'https://service.force.com/', 'https://appsitemsuggest-pa.clients6.google.com/', 'https://uchicagossecretplaces.wordpress.com/', 'https://scholar.google.com/', 'https://c.paypal.com/', 'https://www.google.com/', 'https://contacts.google.com/', 'https://lightroom.adobe.com/', 'https://keep-pa.clients6.google.com/', 'https://support.google.com/', 'https://tv.apple.com/', 'https://search.ebscohost.com/', 'https://www.facebook.com/', 'https://accounts.google.com/', 'https://ogs.google.com/', 'https://eds.s.ebscohost.com/', 'https://outlook.office.com/', 'https://drive.google.com/', 'https://clients6.google.com/', 'https://public-api.wordpress.com/', 'https://groups.google.com/', 'https://acrobat.adobe.com/', 'https://en.wikipedia.org/', 'https://meet.google.com/', 'https://people-pa.clients6.google.com/', 'https://quizlet.com/', 'https://us.edstem.org/', 'https://edstem.org/', 'https://keep.google.com/', 'https://clients5.google.com/', 'https://www.amazon.com/', 'https://chat.google.com/', 'https://myaccount.google.com/', 'https://www.paypal.com/', 'https://twitter.com/', 'https://www.instagram.com/', 'https://scone-pa.clients6.google.com/', 'https://docs.google.com/', 'https://canvadocs.instructure.com/', 'https://www.surveymonkey.com/', 'https://www.loom.com/', 'https://webshell.suite.office.com/', 'https://l.facebook.com/', 'https://www.youtube.com/', 'https://calendar.google.com/', 'https://www.ftc.gov/', 'https://www.linkedin.com/'}\n"
     ]
    }
   ],
   "source": [
    "#this is the initiatior website + then link the tracker website\n",
    "#merge at a global level, then GROUP by user\n",
    "#connect this to the tracker \n",
    "#if the tracker website has an empty intitatior website, then present it and display the timestamp\n",
    "a = set()\n",
    "for i in filtered_data: \n",
    "    rep = i['report']\n",
    "    if rep['initiator_domain'] != None: \n",
    "        a.add(rep['initiator_domain'])\n",
    "print(a)"
   ]
  },
  {
   "cell_type": "code",
   "execution_count": 17,
   "id": "e1d7f703",
   "metadata": {},
   "outputs": [],
   "source": []
  },
  {
   "cell_type": "code",
   "execution_count": 18,
   "id": "48a4e295",
   "metadata": {},
   "outputs": [
    {
     "name": "stdout",
     "output_type": "stream",
     "text": [
      "533229\n"
     ]
    }
   ],
   "source": [
    "#what is leak_url and what is url_leak_type\n",
    "leak_type = []\n",
    "\n",
    "for i in filtered_data: \n",
    "    if i.get('report') != None: \n",
    "        leak_type.append(i['report']['url_leak_type'])\n",
    "        \n",
    "print(len(leak_type))"
   ]
  },
  {
   "cell_type": "code",
   "execution_count": 19,
   "id": "234f3f75",
   "metadata": {},
   "outputs": [],
   "source": [
    "nonempty_leak_type = []\n",
    "for i in leak_type: \n",
    "    if i != None: \n",
    "        nonempty_leak_type.append(i)"
   ]
  },
  {
   "cell_type": "code",
   "execution_count": 20,
   "id": "53490036",
   "metadata": {},
   "outputs": [
    {
     "name": "stdout",
     "output_type": "stream",
     "text": [
      "247236 ['lastname', 'email'] <class 'list'>\n"
     ]
    }
   ],
   "source": [
    "print(len(nonempty_leak_type), nonempty_leak_type[1], type(nonempty_leak_type[1]))"
   ]
  },
  {
   "cell_type": "code",
   "execution_count": 21,
   "id": "7359fdc2",
   "metadata": {},
   "outputs": [],
   "source": [
    "def return_unique(l: list): \n",
    "    '''\n",
    "    A function that does the same thing as a set(), but for unhashable types\n",
    "    '''\n",
    "    a = set()\n",
    "    \n",
    "    [[a.add(field) for field in item] for item in l]\n",
    "\n",
    "    return a"
   ]
  },
  {
   "cell_type": "code",
   "execution_count": 22,
   "id": "3d36d4d6",
   "metadata": {},
   "outputs": [
    {
     "data": {
      "text/plain": [
       "{'email', 'firstname', 'id', 'lastname', 'phone', 'preferredname'}"
      ]
     },
     "execution_count": 22,
     "metadata": {},
     "output_type": "execute_result"
    }
   ],
   "source": [
    "return_unique(nonempty_leak_type)"
   ]
  },
  {
   "cell_type": "code",
   "execution_count": 25,
   "id": "1491952d",
   "metadata": {},
   "outputs": [
    {
     "data": {
      "text/plain": [
       "[('email', 'lastname', 'preferredname'),\n",
       " ('email', 'firstname', 'preferredname'),\n",
       " ('email',),\n",
       " ('phone', 'preferredname'),\n",
       " ('email', 'id', 'lastname'),\n",
       " ('firstname', 'lastname', 'preferredname'),\n",
       " ('preferredname',),\n",
       " ('lastname',),\n",
       " ('id', 'lastname'),\n",
       " ('lastname', 'preferredname'),\n",
       " ('id',),\n",
       " ('firstname',),\n",
       " ('firstname', 'lastname'),\n",
       " ('email', 'lastname'),\n",
       " ('firstname', 'preferredname')]"
      ]
     },
     "execution_count": 25,
     "metadata": {},
     "output_type": "execute_result"
    }
   ],
   "source": [
    "test_1 = list(set(tuple(sorted(sub)) for sub in nonempty_leak_type))\n",
    "test_1"
   ]
  },
  {
   "cell_type": "code",
   "execution_count": 23,
   "id": "1e6dc733",
   "metadata": {},
   "outputs": [],
   "source": [
    "def produce_count_dict(l):\n",
    "    d_keys = list(set(tuple(sorted(sub)) for sub in l))\n",
    "    count_d = {field: None for field in d_keys}\n",
    "    for i in l: \n",
    "        if sorted(i) in count_d: \n",
    "            a = count_d.get(j)\n",
    "            count_d[j] = a + 1\n",
    "        else: \n",
    "            count_d[j] = 1\n",
    "    #sorting data\n",
    "    sorted_count = sorted(count_d.items(), key=lambda x:x[1], reverse = True)\n",
    "\n",
    "    return count_d"
   ]
  },
  {
   "cell_type": "code",
   "execution_count": 24,
   "id": "83c5f267",
   "metadata": {},
   "outputs": [
    {
     "data": {
      "text/plain": [
       "{'_id': {'$oid': '64472f93d9e77d75c882fc6e'},\n",
       " 'report': {'user_id': '2wpdvj73oou',\n",
       "  'school_district': 'Other',\n",
       "  'grade': '6',\n",
       "  'request_method': 'GET',\n",
       "  'timestamp': '2023-04-25T01:40:35.458Z',\n",
       "  'leak_url': None,\n",
       "  'initiator_domain': None,\n",
       "  'url_leak_type': None,\n",
       "  'body_leak_type': [],\n",
       "  'tracker_info': None}}"
      ]
     },
     "execution_count": 24,
     "metadata": {},
     "output_type": "execute_result"
    }
   ],
   "source": [
    "filtered_data[10002]"
   ]
  },
  {
   "cell_type": "markdown",
   "id": "7a6ec7e3",
   "metadata": {},
   "source": [
    "things to do next\n",
    "- script to output a markdown/text file outputting the da\n",
    "- potential graphs\n",
    "- understanding trends (time series)\n",
    "- other types of data to look at \n",
    "- especially under fb/google/etc\n",
    "\n",
    "- create a started page for extension \n",
    "- then group by User\n",
    "\n",
    "also, explain what one entry is\n",
    "- does the order of the field counted matter? \n",
    "- should we open these tuples and sort by field itself, or as a packaged tuple"
   ]
  },
  {
   "cell_type": "markdown",
   "id": "c65cd456",
   "metadata": {},
   "source": [
    "## connecting field types with company"
   ]
  },
  {
   "cell_type": "code",
   "execution_count": 25,
   "id": "748bbbb2",
   "metadata": {},
   "outputs": [
    {
     "data": {
      "text/plain": [
       "76"
      ]
     },
     "execution_count": 25,
     "metadata": {},
     "output_type": "execute_result"
    }
   ],
   "source": [
    "final_count = {}\n",
    "\n",
    "for i in filtered_data: \n",
    "    if i['report'].get('tracker_info') != None: #some reports do not have tracker info\n",
    "        if i['report']['tracker_info'].get('tracker').get('owner').get('url') != None: #all reports w/ tracker info has the owner/url link\n",
    "            #getting urls (which will be the keys)\n",
    "            url = i['report']['tracker_info']['tracker']['owner']['url']\n",
    "            #getting leak types (which will be the keys for the nested dict for each url)\n",
    "            if i['report']['url_leak_type'] is None: \n",
    "                leak_type = \"None\"\n",
    "            else: \n",
    "                leak_type = i['report']['url_leak_type']\n",
    "                leak_type = tuple(sorted(leak_type)) #ADDING THE SORTED REMOVES FIELD DUPLICATES\n",
    "                            \n",
    "            if url in final_count: \n",
    "                #dic.get('b') == None: <-- another way to find \n",
    "                if leak_type in final_count[url]: \n",
    "                    final_count[url][leak_type] += 1\n",
    "                else: \n",
    "                    final_count[url][leak_type] = 1\n",
    "            else: \n",
    "                final_count[url] = {} #results in empty field dicts for some urls\n",
    "                \n",
    "len(final_count)"
   ]
  },
  {
   "cell_type": "code",
   "execution_count": 26,
   "id": "481e09dd",
   "metadata": {
    "scrolled": true
   },
   "outputs": [],
   "source": [
    "#FINAL COUNT IS --> each url's leak_type and count of leaks\n",
    "final_count\n",
    "final_count_copy = final_count.copy()"
   ]
  },
  {
   "cell_type": "code",
   "execution_count": 27,
   "id": "e61b3747",
   "metadata": {},
   "outputs": [
    {
     "data": {
      "text/plain": [
       "(76, 76)"
      ]
     },
     "execution_count": 27,
     "metadata": {},
     "output_type": "execute_result"
    }
   ],
   "source": [
    "len(final_count_copy), len(final_count)"
   ]
  },
  {
   "cell_type": "markdown",
   "id": "e3cc5a02",
   "metadata": {},
   "source": [
    "ideal output: <br>\n",
    "\n",
    "{ 'website.com': {<br>\n",
    "&emsp;&emsp;    field_name_1: 23 <br>\n",
    "&emsp;&emsp;    field_name_2: 34 <br>\n",
    "&emsp;&emsp;    field_name_3: 12<br>\n",
    "&emsp;&emsp;        }<br>\n",
    "   'website2.com': {<br>\n",
    "     &emsp;&emsp;  field_name_2: 124<br>\n",
    "     &emsp;&emsp;  field_name_4: 81<br>\n",
    " &emsp;&emsp;    } <br>\n",
    "}"
   ]
  },
  {
   "cell_type": "code",
   "execution_count": 40,
   "id": "32f24ff8",
   "metadata": {},
   "outputs": [],
   "source": [
    "#removing values with None, and removing dictionairies, \n",
    "#where the website is only an empty dictinoairy, ie. no field \n",
    "deleted_websites = []\n",
    "\n",
    "for website in list(final_count_copy.keys()): \n",
    "    \n",
    "    field_dict = final_count_copy[website]\n",
    "    field_count_website = len(list(field_dict.keys())) #eg. {('lastname',): 3, 'None': 1} = 2\n",
    "    \n",
    "    if field_count_website ==0: \n",
    "        final_count_copy.pop(website)    \n",
    "    elif \"None\" in final_count_copy[website]: \n",
    "        del final_count_copy[website][\"None\"]  "
   ]
  },
  {
   "cell_type": "code",
   "execution_count": 41,
   "id": "51a68dec",
   "metadata": {},
   "outputs": [
    {
     "data": {
      "text/plain": [
       "(35, 76)"
      ]
     },
     "execution_count": 41,
     "metadata": {},
     "output_type": "execute_result"
    }
   ],
   "source": [
    "#original remains unchanged (shallow copy)\n",
    "len(final_count_copy), len(final_count)"
   ]
  },
  {
   "cell_type": "code",
   "execution_count": 42,
   "id": "cfd3e7e9",
   "metadata": {},
   "outputs": [
    {
     "data": {
      "text/plain": [
       "{'http://google.com': {('email', 'lastname'): 180,\n",
       "  ('id',): 22,\n",
       "  ('lastname',): 161619,\n",
       "  ('preferredname',): 33,\n",
       "  ('firstname', 'preferredname'): 415,\n",
       "  ('firstname',): 410,\n",
       "  ('firstname', 'lastname'): 9,\n",
       "  ('id', 'lastname'): 297,\n",
       "  ('firstname', 'lastname', 'preferredname'): 12706,\n",
       "  ('lastname', 'preferredname'): 7,\n",
       "  ('phone', 'preferredname'): 25,\n",
       "  ('email', 'id', 'lastname'): 2},\n",
       " 'http://heap.io': {('lastname',): 5},\n",
       " 'http://cloudflare.com': {('lastname',): 17, ('preferredname',): 1},\n",
       " 'http://twitter.com': {('lastname',): 2, ('preferredname',): 15},\n",
       " 'http://intuit.com': {('lastname',): 8},\n",
       " 'http://facebook.com': {('lastname',): 3048,\n",
       "  ('id', 'lastname'): 9,\n",
       "  ('preferredname',): 4},\n",
       " 'http://newrelic.com': {('lastname',): 142},\n",
       " 'http://microsoft.com': {('lastname',): 687,\n",
       "  ('lastname', 'preferredname'): 2,\n",
       "  ('id', 'lastname'): 1,\n",
       "  ('email', 'lastname'): 1},\n",
       " 'http://akamai.com': {('lastname',): 3},\n",
       " 'http://amazon.com': {('lastname',): 866,\n",
       "  ('id', 'lastname'): 9,\n",
       "  ('lastname', 'preferredname'): 1,\n",
       "  ('preferredname',): 1,\n",
       "  ('id',): 1},\n",
       " 'http://comscore.com': {('lastname',): 52},\n",
       " 'http://pubmatic.com': {('lastname',): 76, ('preferredname',): 1},\n",
       " 'http://optimizely.com': {('lastname',): 2},\n",
       " 'http://magnite.com': {('lastname',): 20},\n",
       " 'http://verizon.com': {('lastname',): 33},\n",
       " 'http://teads.tv': {('lastname',): 21},\n",
       " 'http://sonobi.com': {('lastname',): 21},\n",
       " 'http://media.net': {('lastname',): 20},\n",
       " 'http://sharethrough.com': {('lastname',): 19},\n",
       " 'http://automattic.com': {('lastname',): 42},\n",
       " 'http://smartadserver.com': {('lastname',): 1},\n",
       " 'http://casalemedia.com': {('lastname',): 3},\n",
       " 'http://33across.com': {('lastname',): 6},\n",
       " 'http://adyoulike.com': {('lastname',): 2},\n",
       " 'http://triplelift.com': {('lastname',): 2},\n",
       " 'http://iponweb.com': {('lastname',): 5},\n",
       " 'http://oracle.com': {('lastname',): 3, ('id', 'lastname'): 12},\n",
       " 'http://criteo.com': {('lastname',): 15},\n",
       " 'http://redditinc.com': {('lastname',): 3},\n",
       " 'http://adobe.com': {('lastname',): 121},\n",
       " 'http://chartbeat.com': {('lastname',): 1},\n",
       " 'http://adlightning.com': {('lastname',): 1, ('preferredname',): 1},\n",
       " 'http://demandbase.com': {('lastname',): 17},\n",
       " 'http://amplitude.com': {('lastname',): 3},\n",
       " 'http://paypal.com': {('lastname',): 10}}"
      ]
     },
     "execution_count": 42,
     "metadata": {},
     "output_type": "execute_result"
    }
   ],
   "source": [
    "final_count_copy"
   ]
  },
  {
   "cell_type": "code",
   "execution_count": 1,
   "id": "fb1b6e8e",
   "metadata": {},
   "outputs": [
    {
     "ename": "NameError",
     "evalue": "name 'final_count_copy' is not defined",
     "output_type": "error",
     "traceback": [
      "\u001b[0;31m---------------------------------------------------------------------------\u001b[0m",
      "\u001b[0;31mNameError\u001b[0m                                 Traceback (most recent call last)",
      "\u001b[0;32m/var/folders/2y/dp5r1q0s2l93n6f00_95dlgr0000gn/T/ipykernel_2778/1022594544.py\u001b[0m in \u001b[0;36m<module>\u001b[0;34m\u001b[0m\n\u001b[1;32m      3\u001b[0m \u001b[0;31m#sort total amount of counts\u001b[0m\u001b[0;34m\u001b[0m\u001b[0;34m\u001b[0m\u001b[0m\n\u001b[1;32m      4\u001b[0m \u001b[0mwebsite_counts\u001b[0m \u001b[0;34m=\u001b[0m \u001b[0;34m{\u001b[0m\u001b[0;34m}\u001b[0m\u001b[0;34m\u001b[0m\u001b[0;34m\u001b[0m\u001b[0m\n\u001b[0;32m----> 5\u001b[0;31m \u001b[0;32mfor\u001b[0m \u001b[0mkey\u001b[0m\u001b[0;34m,\u001b[0m \u001b[0mvalue\u001b[0m \u001b[0;32min\u001b[0m \u001b[0mfinal_count_copy\u001b[0m\u001b[0;34m.\u001b[0m\u001b[0mitems\u001b[0m\u001b[0;34m(\u001b[0m\u001b[0;34m)\u001b[0m\u001b[0;34m:\u001b[0m\u001b[0;34m\u001b[0m\u001b[0;34m\u001b[0m\u001b[0m\n\u001b[0m\u001b[1;32m      6\u001b[0m     \u001b[0mwebsite_counts\u001b[0m\u001b[0;34m[\u001b[0m\u001b[0mkey\u001b[0m\u001b[0;34m]\u001b[0m \u001b[0;34m=\u001b[0m \u001b[0;36m0\u001b[0m\u001b[0;34m\u001b[0m\u001b[0;34m\u001b[0m\u001b[0m\n\u001b[1;32m      7\u001b[0m     \u001b[0;32mfor\u001b[0m \u001b[0mc\u001b[0m \u001b[0;32min\u001b[0m \u001b[0mvalue\u001b[0m\u001b[0;34m.\u001b[0m\u001b[0mvalues\u001b[0m\u001b[0;34m(\u001b[0m\u001b[0;34m)\u001b[0m\u001b[0;34m:\u001b[0m\u001b[0;34m\u001b[0m\u001b[0;34m\u001b[0m\u001b[0m\n",
      "\u001b[0;31mNameError\u001b[0m: name 'final_count_copy' is not defined"
     ]
    }
   ],
   "source": [
    "#making some graphs for final_count_copy \n",
    "\n",
    "#sort total amount of counts\n",
    "website_counts = {}\n",
    "for key, value in final_count_copy.items(): \n",
    "    website_counts[key] = 0\n",
    "    for c in value.values(): \n",
    "        website_counts[key] += c\n",
    "\n",
    "website_counts = dict(sorted(website_counts.items(), key=lambda x:x[1], reverse = True)[0:8])\n",
    "website_counts#produces list "
   ]
  },
  {
   "cell_type": "code",
   "execution_count": 76,
   "id": "c4819158",
   "metadata": {},
   "outputs": [
    {
     "data": {
      "text/html": [
       "<div>\n",
       "<style scoped>\n",
       "    .dataframe tbody tr th:only-of-type {\n",
       "        vertical-align: middle;\n",
       "    }\n",
       "\n",
       "    .dataframe tbody tr th {\n",
       "        vertical-align: top;\n",
       "    }\n",
       "\n",
       "    .dataframe thead th {\n",
       "        text-align: right;\n",
       "    }\n",
       "</style>\n",
       "<table border=\"1\" class=\"dataframe\">\n",
       "  <thead>\n",
       "    <tr style=\"text-align: right;\">\n",
       "      <th></th>\n",
       "      <th>Count</th>\n",
       "    </tr>\n",
       "  </thead>\n",
       "  <tbody>\n",
       "    <tr>\n",
       "      <th>http://facebook.com</th>\n",
       "      <td>3061</td>\n",
       "    </tr>\n",
       "    <tr>\n",
       "      <th>http://amazon.com</th>\n",
       "      <td>878</td>\n",
       "    </tr>\n",
       "    <tr>\n",
       "      <th>http://microsoft.com</th>\n",
       "      <td>691</td>\n",
       "    </tr>\n",
       "    <tr>\n",
       "      <th>http://newrelic.com</th>\n",
       "      <td>142</td>\n",
       "    </tr>\n",
       "    <tr>\n",
       "      <th>http://adobe.com</th>\n",
       "      <td>121</td>\n",
       "    </tr>\n",
       "    <tr>\n",
       "      <th>http://pubmatic.com</th>\n",
       "      <td>77</td>\n",
       "    </tr>\n",
       "    <tr>\n",
       "      <th>http://comscore.com</th>\n",
       "      <td>52</td>\n",
       "    </tr>\n",
       "  </tbody>\n",
       "</table>\n",
       "</div>"
      ],
      "text/plain": [
       "                      Count\n",
       "http://facebook.com    3061\n",
       "http://amazon.com       878\n",
       "http://microsoft.com    691\n",
       "http://newrelic.com     142\n",
       "http://adobe.com        121\n",
       "http://pubmatic.com      77\n",
       "http://comscore.com      52"
      ]
     },
     "execution_count": 76,
     "metadata": {},
     "output_type": "execute_result"
    }
   ],
   "source": [
    "#DataFrame.from_dict\n",
    "df1 = pd.DataFrame.from_dict(data = website_counts, orient = \"index\", columns = [\"Count\"])\n",
    "df1"
   ]
  },
  {
   "cell_type": "code",
   "execution_count": 79,
   "id": "c87aff62",
   "metadata": {},
   "outputs": [
    {
     "data": {
      "image/png": "[encoded data removed]",
      "text/plain": [
       "<Figure size 432x288 with 1 Axes>"
      ]
     },
     "metadata": {
      "needs_background": "light"
     },
     "output_type": "display_data"
    }
   ],
   "source": [
    "#sns.barplot(data=df, x=\"island\", y=\"body_mass_g\")\n",
    "barplot1 = sns.barplot(data = df1, x = df1.index.values, y = 'Log Count').set(title=\"Amount of Leaks by Website\")\n",
    "plt.xticks(rotation = 45)\n",
    "plt.show()\n",
    "#TO DO: use a log scale --> plt.yscale('log') --> rewrite the columns "
   ]
  },
  {
   "cell_type": "code",
   "execution_count": 59,
   "id": "a7a3bad7",
   "metadata": {},
   "outputs": [
    {
     "data": {
      "text/plain": [
       "{'http://google.com': {('email', 'lastname'): 180,\n",
       "  ('id',): 22,\n",
       "  ('lastname',): 161619,\n",
       "  ('preferredname',): 33,\n",
       "  ('firstname', 'preferredname'): 415,\n",
       "  ('firstname',): 410,\n",
       "  ('firstname', 'lastname'): 9,\n",
       "  ('id', 'lastname'): 297,\n",
       "  ('firstname', 'lastname', 'preferredname'): 12706,\n",
       "  ('lastname', 'preferredname'): 7,\n",
       "  ('phone', 'preferredname'): 25,\n",
       "  ('email', 'id', 'lastname'): 2},\n",
       " 'http://heap.io': {('lastname',): 5},\n",
       " 'http://cloudflare.com': {('lastname',): 17, ('preferredname',): 1},\n",
       " 'http://twitter.com': {('lastname',): 2, ('preferredname',): 15},\n",
       " 'http://intuit.com': {('lastname',): 8},\n",
       " 'http://facebook.com': {('lastname',): 3048,\n",
       "  ('id', 'lastname'): 9,\n",
       "  ('preferredname',): 4},\n",
       " 'http://newrelic.com': {('lastname',): 142},\n",
       " 'http://microsoft.com': {('lastname',): 687,\n",
       "  ('lastname', 'preferredname'): 2,\n",
       "  ('id', 'lastname'): 1,\n",
       "  ('email', 'lastname'): 1},\n",
       " 'http://akamai.com': {('lastname',): 3},\n",
       " 'http://amazon.com': {('lastname',): 866,\n",
       "  ('id', 'lastname'): 9,\n",
       "  ('lastname', 'preferredname'): 1,\n",
       "  ('preferredname',): 1,\n",
       "  ('id',): 1},\n",
       " 'http://comscore.com': {('lastname',): 52},\n",
       " 'http://pubmatic.com': {('lastname',): 76, ('preferredname',): 1},\n",
       " 'http://optimizely.com': {('lastname',): 2},\n",
       " 'http://magnite.com': {('lastname',): 20},\n",
       " 'http://verizon.com': {('lastname',): 33},\n",
       " 'http://teads.tv': {('lastname',): 21},\n",
       " 'http://sonobi.com': {('lastname',): 21},\n",
       " 'http://media.net': {('lastname',): 20},\n",
       " 'http://sharethrough.com': {('lastname',): 19},\n",
       " 'http://automattic.com': {('lastname',): 42},\n",
       " 'http://smartadserver.com': {('lastname',): 1},\n",
       " 'http://casalemedia.com': {('lastname',): 3},\n",
       " 'http://33across.com': {('lastname',): 6},\n",
       " 'http://adyoulike.com': {('lastname',): 2},\n",
       " 'http://triplelift.com': {('lastname',): 2},\n",
       " 'http://iponweb.com': {('lastname',): 5},\n",
       " 'http://oracle.com': {('lastname',): 3, ('id', 'lastname'): 12},\n",
       " 'http://criteo.com': {('lastname',): 15},\n",
       " 'http://redditinc.com': {('lastname',): 3},\n",
       " 'http://adobe.com': {('lastname',): 121},\n",
       " 'http://chartbeat.com': {('lastname',): 1},\n",
       " 'http://adlightning.com': {('lastname',): 1, ('preferredname',): 1},\n",
       " 'http://demandbase.com': {('lastname',): 17},\n",
       " 'http://amplitude.com': {('lastname',): 3},\n",
       " 'http://paypal.com': {('lastname',): 10}}"
      ]
     },
     "execution_count": 59,
     "metadata": {},
     "output_type": "execute_result"
    }
   ],
   "source": [
    "final_count_copy\n",
    "#full_df = DataFrame.from_dict(data = website_counts, orient = \"index\", columns = [\"Count\"])"
   ]
  },
  {
   "cell_type": "markdown",
   "id": "5d20e4ab",
   "metadata": {},
   "source": [
    "Questions: \n",
    "- why are we picking up so many None types even after passing data thru filters?\n",
    "- We should clean out the companies that have empty fields and \n",
    "        - 1) make a proportion measurement of empty to non empty\n",
    "        - 2) add a filter hashtag to the companies by maybe doing easy webcrawl/nlp search and assigning if company is #media, #tech ... and then maybe categorize level of harm that the leaks are\n",
    "- what prof. marshini said, about cateogiring by user instead of company\n",
    "<br> the next steps are : <br>\n",
    "### TODO: \n",
    "> get rid of \"Nones\" keys as a seperate output <br>\n",
    "> also nicer outputs (*****in a text file -- f strings) w/ formatting <br>\n",
    "- summary stats --> eg. total number of id leaks, percentages  <br>\n",
    "- explain filtering + explain removing \"Nones\", and empty dictionairies"
   ]
  },
  {
   "cell_type": "markdown",
   "id": "bbaf7163",
   "metadata": {},
   "source": []
  },
  {
   "cell_type": "markdown",
   "id": "24ef26c7",
   "metadata": {},
   "source": [
    "## sorting by user"
   ]
  },
  {
   "cell_type": "code",
   "execution_count": 31,
   "id": "1ebb7c8f",
   "metadata": {},
   "outputs": [],
   "source": [
    "#user id, and count how many times that user comes up\n",
    "list_user = []\n",
    "c = 0\n",
    "for i in filtered_data: \n",
    "    a = i.get('report')['user_id']\n",
    "    list_user.append(a)\n",
    "    c += 1"
   ]
  },
  {
   "cell_type": "code",
   "execution_count": 32,
   "id": "81123a8b",
   "metadata": {},
   "outputs": [
    {
     "data": {
      "text/plain": [
       "533229"
      ]
     },
     "execution_count": 32,
     "metadata": {},
     "output_type": "execute_result"
    }
   ],
   "source": [
    "len(list_user)"
   ]
  },
  {
   "cell_type": "code",
   "execution_count": 33,
   "id": "92c9113d",
   "metadata": {},
   "outputs": [
    {
     "data": {
      "text/plain": [
       "{'dknglbh1h3': 147075,\n",
       " '2wpdvj73oou': 120917,\n",
       " 'zu7pjmkeoi': 99367,\n",
       " 's4ni7dbb7y': 80690,\n",
       " '4485kqex0zs': 57416,\n",
       " 'grr97iqp57r': 15253,\n",
       " '9tgpozqqg7d': 7127,\n",
       " 'kix7pup4zh': 3358,\n",
       " 'd1wgiodc53k': 724,\n",
       " '699mztw4z75': 494,\n",
       " 'jktgjnvw8r': 180,\n",
       " 'zoumk7kg3yq': 155,\n",
       " 'l9duvpdz9m8': 119,\n",
       " '80yfsk3rrlc': 112,\n",
       " '4q68v2cg2pl': 90,\n",
       " 'zwq78tx53ib': 74,\n",
       " '5tpckk3d14e': 53,\n",
       " 'y9y0arr5kpm': 18,\n",
       " 'p0fjtio4mr': 7}"
      ]
     },
     "execution_count": 33,
     "metadata": {},
     "output_type": "execute_result"
    }
   ],
   "source": [
    "simple_produce_count(list_user)"
   ]
  },
  {
   "cell_type": "code",
   "execution_count": 34,
   "id": "6d72e3bf",
   "metadata": {},
   "outputs": [
    {
     "data": {
      "text/plain": [
       "dict"
      ]
     },
     "execution_count": 34,
     "metadata": {},
     "output_type": "execute_result"
    }
   ],
   "source": [
    "#connecting user_id, and what types of fields are leaked and how many times they are found\n",
    "dict_user_leak = {}\n",
    "\n",
    "for i in filtered_data: \n",
    "    report = i['report']\n",
    "    #getting user (which will be the keys)\n",
    "    user = report[\"user_id\"]\n",
    "    #getting leak types (which will be the keys for the nested dict for each url)\n",
    "    if report['url_leak_type'] == None: \n",
    "        leak_type = \"None\"\n",
    "    else: \n",
    "        leak_type = report['url_leak_type']\n",
    "        leak_type = tuple(sorted(leak_type)) #ADDING THE SORTED REMOVES FIELD DUPLICATES\n",
    "\n",
    "    if user in dict_user_leak: \n",
    "        #dic.get('b') == None: <-- another way to find \n",
    "        if leak_type in dict_user_leak[user]: \n",
    "            dict_user_leak[user][leak_type] += 1\n",
    "        else: \n",
    "            dict_user_leak[user][leak_type] = 1\n",
    "    else: \n",
    "        dict_user_leak[user] = {} #results in empty field dicts for some urls\n",
    "\n",
    "type(dict_user_leak)"
   ]
  },
  {
   "cell_type": "code",
   "execution_count": 35,
   "id": "76ab0456",
   "metadata": {},
   "outputs": [
    {
     "data": {
      "text/plain": [
       "{'d1wgiodc53k': {'None': 678,\n",
       "  ('email', 'lastname'): 38,\n",
       "  ('id',): 3,\n",
       "  ('lastname',): 4},\n",
       " '2wpdvj73oou': {'None': 120916},\n",
       " 'zwq78tx53ib': {'None': 69, ('email', 'lastname'): 4},\n",
       " 'zoumk7kg3yq': {'None': 149, ('preferredname',): 5},\n",
       " '9tgpozqqg7d': {'None': 7109,\n",
       "  ('email', 'lastname'): 6,\n",
       "  ('email',): 10,\n",
       "  ('lastname',): 1},\n",
       " 's4ni7dbb7y': {'None': 80293,\n",
       "  ('firstname', 'preferredname'): 391,\n",
       "  ('email', 'firstname', 'preferredname'): 4,\n",
       "  ('firstname', 'lastname', 'preferredname'): 1},\n",
       " '5tpckk3d14e': {('preferredname',): 51, 'None': 1},\n",
       " 'grr97iqp57r': {'None': 15245,\n",
       "  ('email', 'lastname'): 2,\n",
       "  ('firstname', 'lastname', 'preferredname'): 5},\n",
       " 'kix7pup4zh': {'None': 3353, ('preferredname',): 4},\n",
       " '699mztw4z75': {('firstname',): 461,\n",
       "  'None': 23,\n",
       "  ('firstname', 'lastname'): 9},\n",
       " 'dknglbh1h3': {'None': 264,\n",
       "  ('lastname',): 133373,\n",
       "  ('id', 'lastname'): 712,\n",
       "  ('firstname', 'lastname', 'preferredname'): 12725},\n",
       " 'p0fjtio4mr': {'None': 6},\n",
       " '80yfsk3rrlc': {'None': 110, ('lastname',): 1},\n",
       " 'zu7pjmkeoi': {('lastname',): 98736,\n",
       "  'None': 266,\n",
       "  ('email', 'lastname'): 218,\n",
       "  ('id', 'lastname'): 67,\n",
       "  ('lastname', 'preferredname'): 74,\n",
       "  ('email', 'lastname', 'preferredname'): 5},\n",
       " '4485kqex0zs': {'None': 57374, ('firstname', 'preferredname'): 41},\n",
       " '4q68v2cg2pl': {'None': 43,\n",
       "  ('phone', 'preferredname'): 26,\n",
       "  ('email', 'id', 'lastname'): 2,\n",
       "  ('preferredname',): 15,\n",
       "  ('id',): 3},\n",
       " 'l9duvpdz9m8': {('preferredname',): 117, 'None': 1},\n",
       " 'y9y0arr5kpm': {'None': 16, ('firstname', 'lastname'): 1},\n",
       " 'jktgjnvw8r': {'None': 62, ('firstname',): 98, ('id',): 19}}"
      ]
     },
     "execution_count": 35,
     "metadata": {},
     "output_type": "execute_result"
    }
   ],
   "source": [
    "dict_user_leak\n",
    "#TO-DO: \n",
    "#print out statistics -- by each user, percentages by user, then break down by leak type\n",
    "#also by leak type break down by user (eg. heading: [\"Emails\"], how many leaks goes to each user)\n",
    "\n",
    "#go thru extension and sort some data and go ask jake to send recent json (make sure user details matches websitesthat i go on)\n",
    "\n",
    "#get date of first time the user is seen with field types + and last date of the user"
   ]
  },
  {
   "cell_type": "code",
   "execution_count": 36,
   "id": "b8b5800f",
   "metadata": {},
   "outputs": [
    {
     "data": {
      "text/plain": [
       "19"
      ]
     },
     "execution_count": 36,
     "metadata": {},
     "output_type": "execute_result"
    }
   ],
   "source": [
    "len(dict_user_leak.keys())"
   ]
  },
  {
   "cell_type": "code",
   "execution_count": 37,
   "id": "8b0290e5",
   "metadata": {},
   "outputs": [],
   "source": [
    "#outputing to text file to read data\n"
   ]
  },
  {
   "cell_type": "markdown",
   "id": "e3c3889a",
   "metadata": {},
   "source": [
    " --> origin; leak; count; percent prevalance\n",
    "\n",
    "#question: if we filter on if leak_url is not empty - is this dataset the same as filtered_data1\n",
    "\n",
    "-- check and compare these two databases\n",
    "-- len (size), make a set of each of them --> https://www.geeksforgeeks.org/python-set-difference/#"
   ]
  },
  {
   "cell_type": "code",
   "execution_count": null,
   "id": "62fb221a",
   "metadata": {},
   "outputs": [],
   "source": []
  }
 ],
 "metadata": {
  "kernelspec": {
   "display_name": "Python 3 (ipykernel)",
   "language": "python",
   "name": "python3"
  },
  "language_info": {
   "codemirror_mode": {
    "name": "ipython",
    "version": 3
   },
   "file_extension": ".py",
   "mimetype": "text/x-python",
   "name": "python",
   "nbconvert_exporter": "python",
   "pygments_lexer": "ipython3",
   "version": "3.9.7"
  }
 },
 "nbformat": 4,
 "nbformat_minor": 5
}
