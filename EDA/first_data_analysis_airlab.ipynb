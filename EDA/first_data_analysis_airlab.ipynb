{
 "cells": [
  {
   "cell_type": "code",
   "execution_count": null,
   "id": "bfc5aab2",
   "metadata": {},
   "outputs": [],
   "source": [
    "import json\n",
    "#import seaborn as sns \n",
    "#import matplotlib.pyplot as plt"
   ]
  },
  {
   "cell_type": "code",
   "execution_count": null,
   "id": "f205a5cc",
   "metadata": {},
   "outputs": [],
   "source": [
    "mainfile = \"result_2023_6_8.json\"\n",
    "smallfile = \"results_2023_5_31.json\""
   ]
  },
  {
   "cell_type": "code",
   "execution_count": null,
   "id": "85c81f5b",
   "metadata": {},
   "outputs": [],
   "source": [
    "smalldata  = []\n",
    "\n",
    "with open(smallfile, 'r') as f:\n",
    "  for entry in f:\n",
    "      oneEntry = json.loads(entry)\n",
    "      smalldata.append(oneEntry)"
   ]
  },
  {
   "cell_type": "code",
   "execution_count": null,
   "id": "d2232d5b",
   "metadata": {},
   "outputs": [],
   "source": [
    "maindata = []\n",
    "with open(mainfile, 'r') as f:\n",
    "  for entry in f:\n",
    "      oneEntry = json.loads(entry)\n",
    "      maindata.append(oneEntry)"
   ]
  },
  {
   "cell_type": "code",
   "execution_count": null,
   "id": "2d6b720b",
   "metadata": {},
   "outputs": [],
   "source": [
    "filtered_data = []\n",
    "for d in maindata: \n",
    "  if d.get('report') != None: #not empty\n",
    "    if d.get('report').get('user_id') != None: \n",
    "      filtered_data.append(d)"
   ]
  },
  {
   "cell_type": "code",
   "execution_count": null,
   "id": "ffb6aeab",
   "metadata": {},
   "outputs": [],
   "source": [
    "type(maindata)"
   ]
  },
  {
   "cell_type": "code",
   "execution_count": null,
   "id": "3064a262",
   "metadata": {},
   "outputs": [],
   "source": [
    "len(maindata)"
   ]
  },
  {
   "cell_type": "code",
   "execution_count": null,
   "id": "684560ca",
   "metadata": {},
   "outputs": [],
   "source": [
    "empty_data = []\n",
    "for d in maindata: \n",
    "    if d.get('report') != None: \n",
    "        if d.get('report').get('user_id') == None:\n",
    "            empty_data.append(d)"
   ]
  },
  {
   "cell_type": "code",
   "execution_count": null,
   "id": "9ec5eb8e",
   "metadata": {},
   "outputs": [],
   "source": [
    "len(empty_data)"
   ]
  },
  {
   "cell_type": "code",
   "execution_count": null,
   "id": "1bae1ef2",
   "metadata": {},
   "outputs": [],
   "source": [
    "len(empty_data)/len(maindata)"
   ]
  },
  {
   "cell_type": "code",
   "execution_count": null,
   "id": "4e63cf8c",
   "metadata": {},
   "outputs": [],
   "source": [
    "len(filtered_data)"
   ]
  },
  {
   "cell_type": "code",
   "execution_count": null,
   "id": "8a589fd1",
   "metadata": {},
   "outputs": [],
   "source": [
    "filtered_data[2]"
   ]
  },
  {
   "cell_type": "code",
   "execution_count": null,
   "id": "2dc11c57",
   "metadata": {},
   "outputs": [],
   "source": [
    "'''example'''\n",
    "print(filtered_data[0]['report']['tracker_info']['tracker']['owner']['url'])"
   ]
  },
  {
   "cell_type": "code",
   "execution_count": null,
   "id": "11b5a830",
   "metadata": {},
   "outputs": [],
   "source": [
    "#get url\n",
    "urls = []\n",
    "for d in filtered_data: \n",
    "    rep = d['report']\n",
    "    if rep.get('tracker_info') != None: \n",
    "        if rep['tracker_info'].get('tracker').get('owner').get('url') != None: \n",
    "            urls.append(d['report']['tracker_info']['tracker']['owner']['url'])\n",
    "print(len(urls))"
   ]
  },
  {
   "cell_type": "code",
   "execution_count": null,
   "id": "3021b711",
   "metadata": {},
   "outputs": [],
   "source": [
    "len(urls)/len(filtered_data)"
   ]
  },
  {
   "cell_type": "code",
   "execution_count": null,
   "id": "8d0dda7a",
   "metadata": {},
   "outputs": [],
   "source": [
    "print(len(set(urls)))"
   ]
  },
  {
   "cell_type": "code",
   "execution_count": null,
   "id": "eaf26669",
   "metadata": {},
   "outputs": [],
   "source": [
    "def produce_count_dict(list):\n",
    "    count_d = {}\n",
    "    for i in list: \n",
    "        if i in count_d: \n",
    "            a = count_d.get(i)\n",
    "            count_d[i] = a + 1\n",
    "        else: \n",
    "            count_d[i] = 1\n",
    "    return count_d"
   ]
  },
  {
   "cell_type": "code",
   "execution_count": null,
   "id": "89c30421",
   "metadata": {},
   "outputs": [],
   "source": [
    "type(produce_count_dict(urls))"
   ]
  },
  {
   "cell_type": "code",
   "execution_count": null,
   "id": "50244ff0",
   "metadata": {},
   "outputs": [],
   "source": [
    "count_d_urls = produce_count_dict(urls)"
   ]
  },
  {
   "cell_type": "code",
   "execution_count": null,
   "id": "fbf2f2d3",
   "metadata": {},
   "outputs": [],
   "source": [
    "sorted_count_urls = sorted(count_d_urls.items(), key=lambda x:x[1], reverse = True)\n",
    "sorted_count_urls"
   ]
  },
  {
   "cell_type": "markdown",
   "id": "6d65ad1e",
   "metadata": {},
   "source": [
    "interesting websites from a bird eye view: \n",
    "- a few web add related websites (eg. tradedesk, smartadserver, adyoulike, adform, gumgum)\n",
    "- paypal has 13 findings --> google, amazon also have credit card details\n",
    "\n",
    "also, interesting is to look at the top ones with obscure websites eg. \n",
    " ('http://pubmatic.com', 896), --> media company \"digital marketing\" \n",
    " ('http://sharethrough.com', 301), --> \"human centric programmatic advertising\" \n",
    " \n",
    "I guess this makes sense that these are the ones picked up, as they do collect user data"
   ]
  },
  {
   "cell_type": "markdown",
   "id": "ef45a27f",
   "metadata": {},
   "source": [
    "## What the data is"
   ]
  },
  {
   "cell_type": "code",
   "execution_count": null,
   "id": "9044c09d",
   "metadata": {},
   "outputs": [],
   "source": [
    "filtered_data[3]['report']"
   ]
  },
  {
   "cell_type": "code",
   "execution_count": null,
   "id": "48a4e295",
   "metadata": {},
   "outputs": [],
   "source": [
    "#what is leak_url and what is url_leak_type\n",
    "leak_type = []\n",
    "\n",
    "for i in filtered_data: \n",
    "    if i.get('report') != None: \n",
    "        leak_type.append(i['report']['url_leak_type'])\n",
    "        \n",
    "print(len(leak_type))"
   ]
  },
  {
   "cell_type": "code",
   "execution_count": null,
   "id": "234f3f75",
   "metadata": {},
   "outputs": [],
   "source": [
    "nonempty_leak_type = []\n",
    "for i in leak_type: \n",
    "    if i != None: \n",
    "        nonempty_leak_type.append(i)\n",
    "print(len(nonempty_leak_type))"
   ]
  },
  {
   "cell_type": "code",
   "execution_count": null,
   "id": "1e6dc733",
   "metadata": {},
   "outputs": [],
   "source": [
    "def produce_count_dict(list):\n",
    "    count_d = {}\n",
    "    for i in list: \n",
    "        j = tuple(i)\n",
    "        if j in count_d: \n",
    "            a = count_d.get(j)\n",
    "            count_d[j] = a + 1\n",
    "        else: \n",
    "            count_d[j] = 1\n",
    "    #sorting data\n",
    "    sorted_count = sorted(count_d.items(), key=lambda x:x[1], reverse = True)\n",
    "\n",
    "    return sorted_count"
   ]
  },
  {
   "cell_type": "code",
   "execution_count": null,
   "id": "8e011ee1",
   "metadata": {},
   "outputs": [],
   "source": [
    "produce_count_dict(nonempty_leak_type)"
   ]
  },
  {
   "cell_type": "code",
   "execution_count": null,
   "id": "9d3993d0",
   "metadata": {},
   "outputs": [],
   "source": [
    "nonempty_leak_type[4]"
   ]
  },
  {
   "cell_type": "code",
   "execution_count": null,
   "id": "cfd3e7e9",
   "metadata": {},
   "outputs": [],
   "source": [
    "tuple(nonempty_leak_type[4])"
   ]
  },
  {
   "cell_type": "markdown",
   "id": "5d20e4ab",
   "metadata": {},
   "source": [
    "things to do next\n",
    "- script to output a markdown/text file outputting the da\n",
    "- potential graphs\n",
    "- understanding trends (time series)\n",
    "- other types of data to look at \n",
    "- especially under fb/google/etc\n",
    "\n",
    "- create a started page for extension "
   ]
  },
  {
   "cell_type": "markdown",
   "id": "bbaf7163",
   "metadata": {},
   "source": [
    "## connecting field types with company"
   ]
  },
  {
   "cell_type": "code",
   "execution_count": null,
   "id": "cbd7d4ca",
   "metadata": {},
   "outputs": [],
   "source": [
    "type(sorted_count_urls)"
   ]
  },
  {
   "cell_type": "code",
   "execution_count": null,
   "id": "1ebb7c8f",
   "metadata": {},
   "outputs": [],
   "source": []
  }
 ],
 "metadata": {
  "kernelspec": {
   "display_name": "Python 3 (ipykernel)",
   "language": "python",
   "name": "python3"
  },
  "language_info": {
   "codemirror_mode": {
    "name": "ipython",
    "version": 3
   },
   "file_extension": ".py",
   "mimetype": "text/x-python",
   "name": "python",
   "nbconvert_exporter": "python",
   "pygments_lexer": "ipython3",
   "version": "3.9.7"
  }
 },
 "nbformat": 4,
 "nbformat_minor": 5
}
