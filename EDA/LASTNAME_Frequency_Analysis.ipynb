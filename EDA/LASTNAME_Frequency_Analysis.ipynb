{
 "cells": [
  {
   "cell_type": "code",
   "execution_count": 128,
   "id": "cd32d47f",
   "metadata": {},
   "outputs": [],
   "source": [
    "import json\n",
    "import pandas as pd"
   ]
  },
  {
   "cell_type": "code",
   "execution_count": 129,
   "id": "b2909911",
   "metadata": {},
   "outputs": [],
   "source": [
    "mainfile = \"result_2023_6_8.json\""
   ]
  },
  {
   "cell_type": "code",
   "execution_count": 130,
   "id": "aef155c8",
   "metadata": {},
   "outputs": [],
   "source": [
    "maindata = []\n",
    "with open(mainfile, 'r') as f:\n",
    "    for entry in f:\n",
    "        oneEntry = json.loads(entry)\n",
    "        maindata.append(oneEntry)\n"
   ]
  },
  {
   "cell_type": "markdown",
   "id": "f7bf3ac3",
   "metadata": {},
   "source": [
    "Removing any redundancies"
   ]
  },
  {
   "cell_type": "code",
   "execution_count": 131,
   "id": "25b45a09",
   "metadata": {},
   "outputs": [],
   "source": [
    "filtereddata = []\n",
    "for d in maindata:\n",
    "    if d.get('report') != None:\n",
    "        if d.get('report').get('user_id') != None:\n",
    "            filtereddata.append(d)"
   ]
  },
  {
   "cell_type": "code",
   "execution_count": 132,
   "id": "25199294",
   "metadata": {},
   "outputs": [
    {
     "data": {
      "text/plain": [
       "list"
      ]
     },
     "execution_count": 132,
     "metadata": {},
     "output_type": "execute_result"
    }
   ],
   "source": [
    "type(maindata)"
   ]
  },
  {
   "cell_type": "markdown",
   "id": "bd3316eb",
   "metadata": {},
   "source": [
    "Removing all non-GET request entries"
   ]
  },
  {
   "cell_type": "code",
   "execution_count": 133,
   "id": "8e01f9d9",
   "metadata": {
    "scrolled": true
   },
   "outputs": [],
   "source": [
    "getrequests = []\n",
    "for d in filtereddata:\n",
    "    if d.get('report').get('request_method') == 'GET':      \n",
    "        getrequests.append(d)"
   ]
  },
  {
   "cell_type": "code",
   "execution_count": 134,
   "id": "9cf8ae54",
   "metadata": {},
   "outputs": [
    {
     "name": "stdout",
     "output_type": "stream",
     "text": [
      "688185\n",
      "533229\n",
      "300719\n"
     ]
    }
   ],
   "source": [
    "print(len(maindata))\n",
    "print(len(filtereddata))\n",
    "print(len(getrequests))"
   ]
  },
  {
   "cell_type": "code",
   "execution_count": 135,
   "id": "f8842b42",
   "metadata": {},
   "outputs": [],
   "source": [
    "import copy\n",
    "\n",
    "users = {}\n",
    "\n",
    "emptydata = {\n",
    "    \"lastname\":0,\n",
    "    \"firstname\":0,\n",
    "    \"preferredname\":0,\n",
    "    \"id\":0,\n",
    "    \"email\":0,\n",
    "    \"phone\":0,\n",
    "}\n",
    "\n",
    "user_data = {\n",
    "    \"URL\":copy.deepcopy(emptydata),\n",
    "    \"body\":copy.deepcopy(emptydata)\n",
    "}\n"
   ]
  },
  {
   "cell_type": "code",
   "execution_count": 136,
   "id": "b416e919",
   "metadata": {
    "scrolled": true
   },
   "outputs": [
    {
     "name": "stdout",
     "output_type": "stream",
     "text": [
      "d1wgiodc53k\n",
      "2wpdvj73oou\n",
      "zwq78tx53ib\n",
      "zoumk7kg3yq\n",
      "9tgpozqqg7d\n",
      "s4ni7dbb7y\n",
      "5tpckk3d14e\n",
      "grr97iqp57r\n",
      "kix7pup4zh\n",
      "699mztw4z75\n",
      "dknglbh1h3\n",
      "p0fjtio4mr\n",
      "80yfsk3rrlc\n",
      "zu7pjmkeoi\n",
      "4485kqex0zs\n",
      "4q68v2cg2pl\n",
      "l9duvpdz9m8\n",
      "y9y0arr5kpm\n",
      "jktgjnvw8r\n"
     ]
    }
   ],
   "source": [
    "for d in getrequests:\n",
    "    user_id = d.get('report').get('user_id')\n",
    "    if user_id not in users:\n",
    "        users[user_id] = copy.deepcopy(user_data)\n",
    "        print(user_id)"
   ]
  },
  {
   "cell_type": "code",
   "execution_count": 137,
   "id": "5885df95",
   "metadata": {},
   "outputs": [],
   "source": [
    "for d in getrequests:\n",
    "    user_id = d.get('report').get('user_id')\n",
    "    url_leak_type = d.get('report').get('url_leak_type')\n",
    "    body_leak_type = d.get('report').get('body_leak_type')\n",
    "    \n",
    "    if url_leak_type != None:\n",
    "        for e in url_leak_type:\n",
    "            users[user_id][\"URL\"][e] = users[user_id][\"URL\"][e] + 1\n",
    "    \n",
    "    if body_leak_type != None:\n",
    "        for e in body_leak_type:\n",
    "            users[user_id][\"body\"][e] = users[user_id][\"body\"][e] + 1"
   ]
  },
  {
   "cell_type": "markdown",
   "id": "351b35eb",
   "metadata": {},
   "source": [
    "Just turning the above data into a nice table using tabulate"
   ]
  },
  {
   "cell_type": "code",
   "execution_count": 138,
   "id": "d5a992d7",
   "metadata": {
    "scrolled": true
   },
   "outputs": [
    {
     "name": "stdout",
     "output_type": "stream",
     "text": [
      "+-------------+-------------+--------------+--------------+------+---------+-----------+\n",
      "| USER ID     |   Last Name |   First Name |   Pref. Name |   ID |   Email |   Phone # |\n",
      "+=============+=============+==============+==============+======+=========+===========+\n",
      "| d1wgiodc53k |          42 |            0 |            0 |    3 |      38 |         0 |\n",
      "+-------------+-------------+--------------+--------------+------+---------+-----------+\n",
      "| 2wpdvj73oou |           0 |            0 |            0 |    0 |       0 |         0 |\n",
      "+-------------+-------------+--------------+--------------+------+---------+-----------+\n",
      "| zwq78tx53ib |           4 |            0 |            0 |    0 |       4 |         0 |\n",
      "+-------------+-------------+--------------+--------------+------+---------+-----------+\n",
      "| zoumk7kg3yq |           0 |            0 |            5 |    0 |       0 |         0 |\n",
      "+-------------+-------------+--------------+--------------+------+---------+-----------+\n",
      "| 9tgpozqqg7d |           6 |            0 |            0 |    0 |      16 |         0 |\n",
      "+-------------+-------------+--------------+--------------+------+---------+-----------+\n",
      "| s4ni7dbb7y  |           1 |           22 |           22 |    0 |       4 |         0 |\n",
      "+-------------+-------------+--------------+--------------+------+---------+-----------+\n",
      "| 5tpckk3d14e |           0 |            0 |           21 |    0 |       0 |         0 |\n",
      "+-------------+-------------+--------------+--------------+------+---------+-----------+\n",
      "| grr97iqp57r |           7 |            5 |            5 |    0 |       2 |         0 |\n",
      "+-------------+-------------+--------------+--------------+------+---------+-----------+\n",
      "| kix7pup4zh  |           0 |            0 |            3 |    0 |       0 |         0 |\n",
      "+-------------+-------------+--------------+--------------+------+---------+-----------+\n",
      "| 699mztw4z75 |           8 |          315 |            0 |    0 |       0 |         0 |\n",
      "+-------------+-------------+--------------+--------------+------+---------+-----------+\n",
      "| dknglbh1h3  |       55597 |           67 |           67 |  616 |       0 |         0 |\n",
      "+-------------+-------------+--------------+--------------+------+---------+-----------+\n",
      "| p0fjtio4mr  |           0 |            0 |            0 |    0 |       0 |         0 |\n",
      "+-------------+-------------+--------------+--------------+------+---------+-----------+\n",
      "| 80yfsk3rrlc |           1 |            0 |            0 |    0 |       0 |         0 |\n",
      "+-------------+-------------+--------------+--------------+------+---------+-----------+\n",
      "| zu7pjmkeoi  |       58424 |            0 |           52 |   26 |     171 |         0 |\n",
      "+-------------+-------------+--------------+--------------+------+---------+-----------+\n",
      "| 4485kqex0zs |           0 |            0 |            0 |    0 |       0 |         0 |\n",
      "+-------------+-------------+--------------+--------------+------+---------+-----------+\n",
      "| 4q68v2cg2pl |           2 |            0 |           37 |    5 |       2 |        25 |\n",
      "+-------------+-------------+--------------+--------------+------+---------+-----------+\n",
      "| l9duvpdz9m8 |           0 |            0 |           98 |    0 |       0 |         0 |\n",
      "+-------------+-------------+--------------+--------------+------+---------+-----------+\n",
      "| y9y0arr5kpm |           0 |            0 |            0 |    0 |       0 |         0 |\n",
      "+-------------+-------------+--------------+--------------+------+---------+-----------+\n",
      "| jktgjnvw8r  |           0 |            3 |            0 |   10 |       0 |         0 |\n",
      "+-------------+-------------+--------------+--------------+------+---------+-----------+\n"
     ]
    }
   ],
   "source": [
    "from tabulate import tabulate\n",
    "\n",
    "data = []\n",
    "for u in users:\n",
    "    entry = []\n",
    "    entry.append(u)\n",
    "    for e in users.get(u).get(\"URL\"):\n",
    "        entry.append(users.get(u).get(\"URL\").get(e))\n",
    "    \n",
    "    data.append(entry)\n",
    "\n",
    "headers = ['USER ID', 'Last Name', 'First Name','Pref. Name', 'ID', 'Email', \"Phone #\"]\n",
    "table = tabulate(data, headers=headers, tablefmt='grid')\n",
    "print(table)"
   ]
  },
  {
   "cell_type": "markdown",
   "id": "02ca1802",
   "metadata": {},
   "source": [
    "Evidently, users \"dknglbh1h3\" and \"zu7pjmkeoi\" are outliers. Interestingly, this data doesn't quite line up with some older calculations for the number of leaks of each type, though those calculations probably didn't use the same filtering methodology I did. Everything's on the same order of magnitude, so it doesn't look like we have any problems. I've excluded those two users from the data set for the later analyses.\n",
    "\n",
    "I'm also only showing data from the url_leak_type field, and not the body_leak_type field, even though I collected data from both. As it turns out, no personal information was found in the body_leak_type field. Possibly just encrypted, not absent, though. See below for the dictionaries.\n",
    "\n",
    "(For what it's worth, rerunning this notebook from the top shuffles the order the USER IDs are presented in. Not sure why, but something to note down, I suppose.)"
   ]
  },
  {
   "cell_type": "code",
   "execution_count": 139,
   "id": "f95c9421",
   "metadata": {
    "scrolled": true
   },
   "outputs": [
    {
     "name": "stdout",
     "output_type": "stream",
     "text": [
      "d1wgiodc53k\t{'lastname': 0, 'firstname': 0, 'preferredname': 0, 'id': 0, 'email': 0, 'phone': 0}\n",
      "2wpdvj73oou\t{'lastname': 0, 'firstname': 0, 'preferredname': 0, 'id': 0, 'email': 0, 'phone': 0}\n",
      "zwq78tx53ib\t{'lastname': 0, 'firstname': 0, 'preferredname': 0, 'id': 0, 'email': 0, 'phone': 0}\n",
      "zoumk7kg3yq\t{'lastname': 0, 'firstname': 0, 'preferredname': 0, 'id': 0, 'email': 0, 'phone': 0}\n",
      "9tgpozqqg7d\t{'lastname': 0, 'firstname': 0, 'preferredname': 0, 'id': 0, 'email': 0, 'phone': 0}\n",
      "s4ni7dbb7y\t{'lastname': 0, 'firstname': 0, 'preferredname': 0, 'id': 0, 'email': 0, 'phone': 0}\n",
      "5tpckk3d14e\t{'lastname': 0, 'firstname': 0, 'preferredname': 0, 'id': 0, 'email': 0, 'phone': 0}\n",
      "grr97iqp57r\t{'lastname': 0, 'firstname': 0, 'preferredname': 0, 'id': 0, 'email': 0, 'phone': 0}\n",
      "kix7pup4zh\t{'lastname': 0, 'firstname': 0, 'preferredname': 0, 'id': 0, 'email': 0, 'phone': 0}\n",
      "699mztw4z75\t{'lastname': 0, 'firstname': 0, 'preferredname': 0, 'id': 0, 'email': 0, 'phone': 0}\n",
      "dknglbh1h3\t{'lastname': 0, 'firstname': 0, 'preferredname': 0, 'id': 0, 'email': 0, 'phone': 0}\n",
      "p0fjtio4mr\t{'lastname': 0, 'firstname': 0, 'preferredname': 0, 'id': 0, 'email': 0, 'phone': 0}\n",
      "80yfsk3rrlc\t{'lastname': 0, 'firstname': 0, 'preferredname': 0, 'id': 0, 'email': 0, 'phone': 0}\n",
      "zu7pjmkeoi\t{'lastname': 0, 'firstname': 0, 'preferredname': 0, 'id': 0, 'email': 0, 'phone': 0}\n",
      "4485kqex0zs\t{'lastname': 0, 'firstname': 0, 'preferredname': 0, 'id': 0, 'email': 0, 'phone': 0}\n",
      "4q68v2cg2pl\t{'lastname': 0, 'firstname': 0, 'preferredname': 0, 'id': 0, 'email': 0, 'phone': 0}\n",
      "l9duvpdz9m8\t{'lastname': 0, 'firstname': 0, 'preferredname': 0, 'id': 0, 'email': 0, 'phone': 0}\n",
      "y9y0arr5kpm\t{'lastname': 0, 'firstname': 0, 'preferredname': 0, 'id': 0, 'email': 0, 'phone': 0}\n",
      "jktgjnvw8r\t{'lastname': 0, 'firstname': 0, 'preferredname': 0, 'id': 0, 'email': 0, 'phone': 0}\n"
     ]
    }
   ],
   "source": [
    "for u in users:\n",
    "    print(u + \"\\t\" + str(users.get(u).get(\"body\")) )"
   ]
  },
  {
   "cell_type": "code",
   "execution_count": 144,
   "id": "94ea7668",
   "metadata": {},
   "outputs": [
    {
     "name": "stdout",
     "output_type": "stream",
     "text": [
      "186308\n"
     ]
    }
   ],
   "source": [
    "normalizeddata = []\n",
    "\n",
    "for d in getrequests: \n",
    "    if d.get('report').get('user_id') != \"dknglbh1h3\" and d.get('report').get('user_id') != \"zu7pjmkeoi\":\n",
    "        normalizeddata.append(d)\n",
    "\n",
    "print(len(normalizeddata))            "
   ]
  },
  {
   "cell_type": "code",
   "execution_count": 147,
   "id": "c2c33908",
   "metadata": {
    "scrolled": true
   },
   "outputs": [
    {
     "name": "stdout",
     "output_type": "stream",
     "text": [
      "592\n"
     ]
    }
   ],
   "source": [
    "leaksOnlyNormalized = []\n",
    "\n",
    "for d in normalizeddata: \n",
    "    if d.get('report').get('initiator_domain') != None:\n",
    "        leaksOnlyNormalized.append(d)\n",
    "        \n",
    "print(len(leaksOnlyNormalized))            "
   ]
  },
  {
   "cell_type": "markdown",
   "id": "921e18b0",
   "metadata": {},
   "source": [
    "The number of entries was reduced by 114,411 via filtering out of the two outlying users. There are 114,021 entries in which dknglbh1h3 or zu7pjmkeoi had a last name leak. Numbers seemingly track-- those two users had their last name \"leaked\" with nearly every search.\n",
    "\n",
    "Filtering out entries without an initiator domain, we find that there are only 592 entries (down from the initial >100,000 leaked data entries detected-- so evidently those users were drastically skewing the data."
   ]
  },
  {
   "cell_type": "code",
   "execution_count": 148,
   "id": "6a3a9537",
   "metadata": {},
   "outputs": [],
   "source": [
    "import copy\n",
    "\n",
    "sites = {}\n",
    "\n",
    "leakCount = {\n",
    "    \"lastname\":0,\n",
    "    \"firstname\":0,\n",
    "    \"preferredname\":0,\n",
    "    \"id\":0,\n",
    "    \"email\":0,\n",
    "    \"phone\":0,\n",
    "}"
   ]
  },
  {
   "cell_type": "code",
   "execution_count": 149,
   "id": "2ae87443",
   "metadata": {},
   "outputs": [
    {
     "name": "stdout",
     "output_type": "stream",
     "text": [
      "https://www.google.com/\n",
      "https://uchicago.zoom.us/\n",
      "https://outlook.office.com/\n",
      "https://www.youtube.com/\n",
      "https://webshell.suite.office.com/\n",
      "https://www.loom.com/\n",
      "https://quizlet.com/\n",
      "https://calendly.com/\n",
      "https://scone-pa.clients6.google.com/\n",
      "https://www.instagram.com/\n",
      "https://ogs.google.com/\n",
      "https://docs.google.com/\n",
      "https://drive.google.com/\n",
      "https://accounts.google.com/\n",
      "https://twitter.com/\n",
      "https://calendar.google.com/\n",
      "https://mail.google.com/\n",
      "https://www.facebook.com/\n",
      "https://www.amazon.com/\n"
     ]
    }
   ],
   "source": [
    "for d in leaksOnlyNormalized:\n",
    "    domain = d.get('report').get('initiator_domain')\n",
    "    if domain not in sites:\n",
    "        sites[domain] = copy.deepcopy(leakCount)\n",
    "        print(domain)"
   ]
  },
  {
   "cell_type": "markdown",
   "id": "9bb05dcf",
   "metadata": {},
   "source": [
    "The list of initiator domains is worryingly short? Don't know if this pilot dataset is just that small or if something else is going on. Maybe an oversight on my part, but might just also mean we need a bigger dataset to make any more meaningful conclusions."
   ]
  },
  {
   "cell_type": "code",
   "execution_count": 152,
   "id": "5e7e0c3e",
   "metadata": {},
   "outputs": [],
   "source": [
    "for d in leaksOnlyNormalized:\n",
    "    domain = d.get('report').get('initiator_domain')\n",
    "    url_leak_type = d.get('report').get('url_leak_type')\n",
    "    \n",
    "    if url_leak_type != None:\n",
    "        for e in url_leak_type:\n",
    "            sites[domain][e] = sites[domain][e] + 1"
   ]
  },
  {
   "cell_type": "code",
   "execution_count": 153,
   "id": "e2dc1060",
   "metadata": {},
   "outputs": [
    {
     "name": "stdout",
     "output_type": "stream",
     "text": [
      "+---------------------------------------+-------------+--------------+--------------+------+---------+-----------+\n",
      "| DOMAIN                                |   Last Name |   First Name |   Pref. Name |   ID |   Email |   Phone # |\n",
      "+=======================================+=============+==============+==============+======+=========+===========+\n",
      "| https://www.google.com/               |         124 |          388 |           76 |    6 |      96 |        46 |\n",
      "+---------------------------------------+-------------+--------------+--------------+------+---------+-----------+\n",
      "| https://uchicago.zoom.us/             |           0 |            2 |            2 |    0 |       0 |         0 |\n",
      "+---------------------------------------+-------------+--------------+--------------+------+---------+-----------+\n",
      "| https://outlook.office.com/           |           0 |           20 |           20 |    0 |       8 |         0 |\n",
      "+---------------------------------------+-------------+--------------+--------------+------+---------+-----------+\n",
      "| https://www.youtube.com/              |           0 |           80 |           66 |    0 |       0 |         0 |\n",
      "+---------------------------------------+-------------+--------------+--------------+------+---------+-----------+\n",
      "| https://webshell.suite.office.com/    |           0 |           14 |           16 |    0 |       0 |         0 |\n",
      "+---------------------------------------+-------------+--------------+--------------+------+---------+-----------+\n",
      "| https://www.loom.com/                 |           4 |            0 |            0 |    0 |       4 |         0 |\n",
      "+---------------------------------------+-------------+--------------+--------------+------+---------+-----------+\n",
      "| https://quizlet.com/                  |           0 |          124 |           78 |    0 |      20 |         0 |\n",
      "+---------------------------------------+-------------+--------------+--------------+------+---------+-----------+\n",
      "| https://calendly.com/                 |          10 |           10 |           10 |    0 |       0 |         0 |\n",
      "+---------------------------------------+-------------+--------------+--------------+------+---------+-----------+\n",
      "| https://scone-pa.clients6.google.com/ |           0 |            4 |            0 |    0 |       0 |         0 |\n",
      "+---------------------------------------+-------------+--------------+--------------+------+---------+-----------+\n",
      "| https://www.instagram.com/            |           0 |           28 |            0 |    0 |       0 |         0 |\n",
      "+---------------------------------------+-------------+--------------+--------------+------+---------+-----------+\n",
      "| https://ogs.google.com/               |           0 |           14 |            0 |    0 |       0 |         0 |\n",
      "+---------------------------------------+-------------+--------------+--------------+------+---------+-----------+\n",
      "| https://docs.google.com/              |           2 |            0 |            4 |    2 |       2 |         2 |\n",
      "+---------------------------------------+-------------+--------------+--------------+------+---------+-----------+\n",
      "| https://drive.google.com/             |           2 |            0 |            4 |    2 |       2 |         2 |\n",
      "+---------------------------------------+-------------+--------------+--------------+------+---------+-----------+\n",
      "| https://accounts.google.com/          |           0 |            0 |            2 |    0 |       0 |         0 |\n",
      "+---------------------------------------+-------------+--------------+--------------+------+---------+-----------+\n",
      "| https://twitter.com/                  |           0 |            0 |           98 |    0 |       0 |         0 |\n",
      "+---------------------------------------+-------------+--------------+--------------+------+---------+-----------+\n",
      "| https://calendar.google.com/          |           0 |            0 |            0 |   20 |       0 |         0 |\n",
      "+---------------------------------------+-------------+--------------+--------------+------+---------+-----------+\n",
      "| https://mail.google.com/              |           0 |            6 |            0 |    0 |       0 |         0 |\n",
      "+---------------------------------------+-------------+--------------+--------------+------+---------+-----------+\n",
      "| https://www.facebook.com/             |           0 |            0 |            6 |    4 |       0 |         0 |\n",
      "+---------------------------------------+-------------+--------------+--------------+------+---------+-----------+\n",
      "| https://www.amazon.com/               |           0 |            0 |            0 |    2 |       0 |         0 |\n",
      "+---------------------------------------+-------------+--------------+--------------+------+---------+-----------+\n"
     ]
    }
   ],
   "source": [
    "data = []\n",
    "for d in sites:\n",
    "    entry = []\n",
    "    entry.append(d)\n",
    "    for e in sites.get(d):\n",
    "        entry.append(sites.get(d).get(e))\n",
    "    \n",
    "    data.append(entry)\n",
    "\n",
    "headers = ['DOMAIN', 'Last Name', 'First Name','Pref. Name', 'ID', 'Email', \"Phone #\"]\n",
    "table = tabulate(data, headers=headers, tablefmt='grid')\n",
    "print(table)"
   ]
  },
  {
   "cell_type": "markdown",
   "id": "8c1c1091",
   "metadata": {},
   "source": [
    "This has already been said, but with internal trackers, I doubt this is the full extent of what data collection is occurring"
   ]
  },
  {
   "cell_type": "code",
   "execution_count": null,
   "id": "46625171",
   "metadata": {},
   "outputs": [],
   "source": []
  }
 ],
 "metadata": {
  "kernelspec": {
   "display_name": "Python 3 (ipykernel)",
   "language": "python",
   "name": "python3"
  },
  "language_info": {
   "codemirror_mode": {
    "name": "ipython",
    "version": 3
   },
   "file_extension": ".py",
   "mimetype": "text/x-python",
   "name": "python",
   "nbconvert_exporter": "python",
   "pygments_lexer": "ipython3",
   "version": "3.11.4"
  }
 },
 "nbformat": 4,
 "nbformat_minor": 5
}
