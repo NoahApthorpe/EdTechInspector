{
 "cells": [
  {
   "cell_type": "code",
   "execution_count": 2,
   "id": "cd32d47f",
   "metadata": {},
   "outputs": [],
   "source": [
    "import json\n",
    "import pandas as pd"
   ]
  },
  {
   "cell_type": "code",
   "execution_count": 3,
   "id": "b2909911",
   "metadata": {},
   "outputs": [],
   "source": [
    "mainfile = \"result_2023_6_8.json\""
   ]
  },
  {
   "cell_type": "code",
   "execution_count": 4,
   "id": "aef155c8",
   "metadata": {},
   "outputs": [],
   "source": [
    "maindata = []\n",
    "with open(mainfile, 'r') as f:\n",
    "    for entry in f:\n",
    "        oneEntry = json.loads(entry)\n",
    "        maindata.append(oneEntry)\n"
   ]
  },
  {
   "cell_type": "markdown",
   "id": "f7bf3ac3",
   "metadata": {},
   "source": [
    "Removing any redundancies"
   ]
  },
  {
   "cell_type": "code",
   "execution_count": 5,
   "id": "25b45a09",
   "metadata": {},
   "outputs": [],
   "source": [
    "filtereddata = []\n",
    "for d in maindata:\n",
    "    if d.get('report') != None:\n",
    "        if d.get('report').get('user_id') != None:\n",
    "            filtereddata.append(d)"
   ]
  },
  {
   "cell_type": "code",
   "execution_count": 6,
   "id": "25199294",
   "metadata": {},
   "outputs": [
    {
     "data": {
      "text/plain": [
       "list"
      ]
     },
     "execution_count": 6,
     "metadata": {},
     "output_type": "execute_result"
    }
   ],
   "source": [
    "type(maindata)"
   ]
  },
  {
   "cell_type": "markdown",
   "id": "bd3316eb",
   "metadata": {},
   "source": [
    "Removing all non-GET request entries"
   ]
  },
  {
   "cell_type": "code",
   "execution_count": 7,
   "id": "8e01f9d9",
   "metadata": {
    "scrolled": true
   },
   "outputs": [],
   "source": [
    "getrequests = []\n",
    "for d in filtereddata:\n",
    "    if d.get('report').get('request_method') == 'GET':      \n",
    "        getrequests.append(d)"
   ]
  },
  {
   "cell_type": "code",
   "execution_count": 8,
   "id": "9cf8ae54",
   "metadata": {},
   "outputs": [
    {
     "name": "stdout",
     "output_type": "stream",
     "text": [
      "688185\n",
      "533229\n",
      "300719\n"
     ]
    }
   ],
   "source": [
    "print(len(maindata))\n",
    "print(len(filtereddata))\n",
    "print(len(getrequests))"
   ]
  },
  {
   "cell_type": "code",
   "execution_count": 9,
   "id": "f8842b42",
   "metadata": {},
   "outputs": [],
   "source": [
    "import copy\n",
    "\n",
    "users = {}\n",
    "\n",
    "emptydata = {\n",
    "    \"lastname\":0,\n",
    "    \"firstname\":0,\n",
    "    \"preferredname\":0,\n",
    "    \"id\":0,\n",
    "    \"email\":0,\n",
    "    \"phone\":0,\n",
    "}\n",
    "\n",
    "\n",
    "URLs = {}\n",
    "\n",
    "\n",
    "user_data = {\n",
    "    \"URL\":copy.deepcopy(emptydata),\n",
    "    \"body\":copy.deepcopy(emptydata),\n",
    "    \"URLs\":copy.deepcopy(URLs)\n",
    "}\n"
   ]
  },
  {
   "cell_type": "code",
   "execution_count": 10,
   "id": "b416e919",
   "metadata": {
    "scrolled": true
   },
   "outputs": [
    {
     "name": "stdout",
     "output_type": "stream",
     "text": [
      "d1wgiodc53k\n",
      "2wpdvj73oou\n",
      "zwq78tx53ib\n",
      "zoumk7kg3yq\n",
      "9tgpozqqg7d\n",
      "s4ni7dbb7y\n",
      "5tpckk3d14e\n",
      "grr97iqp57r\n",
      "kix7pup4zh\n",
      "699mztw4z75\n",
      "dknglbh1h3\n",
      "p0fjtio4mr\n",
      "80yfsk3rrlc\n",
      "zu7pjmkeoi\n",
      "4485kqex0zs\n",
      "4q68v2cg2pl\n",
      "l9duvpdz9m8\n",
      "y9y0arr5kpm\n",
      "jktgjnvw8r\n"
     ]
    }
   ],
   "source": [
    "for d in getrequests:\n",
    "    user_id = d.get('report').get('user_id')\n",
    "    if user_id not in users:\n",
    "        users[user_id] = copy.deepcopy(user_data)\n",
    "        print(user_id)"
   ]
  },
  {
   "cell_type": "code",
   "execution_count": 11,
   "id": "5885df95",
   "metadata": {},
   "outputs": [],
   "source": [
    "for d in getrequests:\n",
    "    user_id = d.get('report').get('user_id')\n",
    "    url_leak_type = d.get('report').get('url_leak_type')\n",
    "    body_leak_type = d.get('report').get('body_leak_type')\n",
    "    domain = d.get('report').get('initiator_domain')\n",
    "    \n",
    "    \n",
    "    if url_leak_type != None:\n",
    "        for e in url_leak_type:\n",
    "            users[user_id][\"URL\"][e] = users[user_id][\"URL\"][e] + 1\n",
    "    \n",
    "    if body_leak_type != None:\n",
    "        for e in body_leak_type:\n",
    "            users[user_id][\"body\"][e] = users[user_id][\"body\"][e] + 1\n",
    "    \n",
    "    if domain != None:\n",
    "        if domain in users[user_id][\"URLs\"]:\n",
    "            users[user_id][\"URLs\"][domain] += 1\n",
    "        else:\n",
    "            users[user_id][\"URLs\"][domain] = 1          "
   ]
  },
  {
   "cell_type": "markdown",
   "id": "351b35eb",
   "metadata": {},
   "source": [
    "Just turning the above data into a nice table using tabulate"
   ]
  },
  {
   "cell_type": "code",
   "execution_count": 12,
   "id": "d5a992d7",
   "metadata": {
    "scrolled": true
   },
   "outputs": [
    {
     "name": "stdout",
     "output_type": "stream",
     "text": [
      "+-------------+-------------+--------------+--------------+------+---------+-----------+\n",
      "| USER ID     |   Last Name |   First Name |   Pref. Name |   ID |   Email |   Phone # |\n",
      "+=============+=============+==============+==============+======+=========+===========+\n",
      "| d1wgiodc53k |          42 |            0 |            0 |    3 |      38 |         0 |\n",
      "+-------------+-------------+--------------+--------------+------+---------+-----------+\n",
      "| 2wpdvj73oou |           0 |            0 |            0 |    0 |       0 |         0 |\n",
      "+-------------+-------------+--------------+--------------+------+---------+-----------+\n",
      "| zwq78tx53ib |           4 |            0 |            0 |    0 |       4 |         0 |\n",
      "+-------------+-------------+--------------+--------------+------+---------+-----------+\n",
      "| zoumk7kg3yq |           0 |            0 |            5 |    0 |       0 |         0 |\n",
      "+-------------+-------------+--------------+--------------+------+---------+-----------+\n",
      "| 9tgpozqqg7d |           6 |            0 |            0 |    0 |      16 |         0 |\n",
      "+-------------+-------------+--------------+--------------+------+---------+-----------+\n",
      "| s4ni7dbb7y  |           1 |           22 |           22 |    0 |       4 |         0 |\n",
      "+-------------+-------------+--------------+--------------+------+---------+-----------+\n",
      "| 5tpckk3d14e |           0 |            0 |           21 |    0 |       0 |         0 |\n",
      "+-------------+-------------+--------------+--------------+------+---------+-----------+\n",
      "| grr97iqp57r |           7 |            5 |            5 |    0 |       2 |         0 |\n",
      "+-------------+-------------+--------------+--------------+------+---------+-----------+\n",
      "| kix7pup4zh  |           0 |            0 |            3 |    0 |       0 |         0 |\n",
      "+-------------+-------------+--------------+--------------+------+---------+-----------+\n",
      "| 699mztw4z75 |           8 |          315 |            0 |    0 |       0 |         0 |\n",
      "+-------------+-------------+--------------+--------------+------+---------+-----------+\n",
      "| dknglbh1h3  |       55597 |           67 |           67 |  616 |       0 |         0 |\n",
      "+-------------+-------------+--------------+--------------+------+---------+-----------+\n",
      "| p0fjtio4mr  |           0 |            0 |            0 |    0 |       0 |         0 |\n",
      "+-------------+-------------+--------------+--------------+------+---------+-----------+\n",
      "| 80yfsk3rrlc |           1 |            0 |            0 |    0 |       0 |         0 |\n",
      "+-------------+-------------+--------------+--------------+------+---------+-----------+\n",
      "| zu7pjmkeoi  |       58424 |            0 |           52 |   26 |     171 |         0 |\n",
      "+-------------+-------------+--------------+--------------+------+---------+-----------+\n",
      "| 4485kqex0zs |           0 |            0 |            0 |    0 |       0 |         0 |\n",
      "+-------------+-------------+--------------+--------------+------+---------+-----------+\n",
      "| 4q68v2cg2pl |           2 |            0 |           37 |    5 |       2 |        25 |\n",
      "+-------------+-------------+--------------+--------------+------+---------+-----------+\n",
      "| l9duvpdz9m8 |           0 |            0 |           98 |    0 |       0 |         0 |\n",
      "+-------------+-------------+--------------+--------------+------+---------+-----------+\n",
      "| y9y0arr5kpm |           0 |            0 |            0 |    0 |       0 |         0 |\n",
      "+-------------+-------------+--------------+--------------+------+---------+-----------+\n",
      "| jktgjnvw8r  |           0 |            3 |            0 |   10 |       0 |         0 |\n",
      "+-------------+-------------+--------------+--------------+------+---------+-----------+\n"
     ]
    }
   ],
   "source": [
    "from tabulate import tabulate\n",
    "\n",
    "data = []\n",
    "for u in users:\n",
    "    entry = []\n",
    "    entry.append(u)\n",
    "    for e in users.get(u).get(\"URL\"):\n",
    "        entry.append(users.get(u).get(\"URL\").get(e))\n",
    "    \n",
    "    data.append(entry)\n",
    "\n",
    "headers = ['USER ID', 'Last Name', 'First Name','Pref. Name', 'ID', 'Email', \"Phone #\"]\n",
    "table = tabulate(data, headers=headers, tablefmt='grid')\n",
    "print(table)"
   ]
  },
  {
   "cell_type": "markdown",
   "id": "02ca1802",
   "metadata": {},
   "source": [
    "Evidently, users \"dknglbh1h3\" and \"zu7pjmkeoi\" are outliers. Interestingly, this data doesn't quite line up with some older calculations for the number of leaks of each type, though those calculations probably didn't use the same filtering methodology I did. Everything's on the same order of magnitude, so it doesn't look like we have any problems. I've excluded those two users from the data set for the later analyses.\n",
    "\n",
    "I'm also only showing data from the url_leak_type field, and not the body_leak_type field, even though I collected data from both. As it turns out, no personal information was found in the body_leak_type field. Possibly just encrypted, not absent, though. See below for the dictionaries.\n",
    "\n",
    "(For what it's worth, rerunning this notebook from the top shuffles the order the USER IDs are presented in. Not sure why, but something to note down, I suppose.)"
   ]
  },
  {
   "cell_type": "code",
   "execution_count": 13,
   "id": "f95c9421",
   "metadata": {
    "scrolled": true
   },
   "outputs": [
    {
     "name": "stdout",
     "output_type": "stream",
     "text": [
      "d1wgiodc53k\t{'lastname': 0, 'firstname': 0, 'preferredname': 0, 'id': 0, 'email': 0, 'phone': 0}\n",
      "2wpdvj73oou\t{'lastname': 0, 'firstname': 0, 'preferredname': 0, 'id': 0, 'email': 0, 'phone': 0}\n",
      "zwq78tx53ib\t{'lastname': 0, 'firstname': 0, 'preferredname': 0, 'id': 0, 'email': 0, 'phone': 0}\n",
      "zoumk7kg3yq\t{'lastname': 0, 'firstname': 0, 'preferredname': 0, 'id': 0, 'email': 0, 'phone': 0}\n",
      "9tgpozqqg7d\t{'lastname': 0, 'firstname': 0, 'preferredname': 0, 'id': 0, 'email': 0, 'phone': 0}\n",
      "s4ni7dbb7y\t{'lastname': 0, 'firstname': 0, 'preferredname': 0, 'id': 0, 'email': 0, 'phone': 0}\n",
      "5tpckk3d14e\t{'lastname': 0, 'firstname': 0, 'preferredname': 0, 'id': 0, 'email': 0, 'phone': 0}\n",
      "grr97iqp57r\t{'lastname': 0, 'firstname': 0, 'preferredname': 0, 'id': 0, 'email': 0, 'phone': 0}\n",
      "kix7pup4zh\t{'lastname': 0, 'firstname': 0, 'preferredname': 0, 'id': 0, 'email': 0, 'phone': 0}\n",
      "699mztw4z75\t{'lastname': 0, 'firstname': 0, 'preferredname': 0, 'id': 0, 'email': 0, 'phone': 0}\n",
      "dknglbh1h3\t{'lastname': 0, 'firstname': 0, 'preferredname': 0, 'id': 0, 'email': 0, 'phone': 0}\n",
      "p0fjtio4mr\t{'lastname': 0, 'firstname': 0, 'preferredname': 0, 'id': 0, 'email': 0, 'phone': 0}\n",
      "80yfsk3rrlc\t{'lastname': 0, 'firstname': 0, 'preferredname': 0, 'id': 0, 'email': 0, 'phone': 0}\n",
      "zu7pjmkeoi\t{'lastname': 0, 'firstname': 0, 'preferredname': 0, 'id': 0, 'email': 0, 'phone': 0}\n",
      "4485kqex0zs\t{'lastname': 0, 'firstname': 0, 'preferredname': 0, 'id': 0, 'email': 0, 'phone': 0}\n",
      "4q68v2cg2pl\t{'lastname': 0, 'firstname': 0, 'preferredname': 0, 'id': 0, 'email': 0, 'phone': 0}\n",
      "l9duvpdz9m8\t{'lastname': 0, 'firstname': 0, 'preferredname': 0, 'id': 0, 'email': 0, 'phone': 0}\n",
      "y9y0arr5kpm\t{'lastname': 0, 'firstname': 0, 'preferredname': 0, 'id': 0, 'email': 0, 'phone': 0}\n",
      "jktgjnvw8r\t{'lastname': 0, 'firstname': 0, 'preferredname': 0, 'id': 0, 'email': 0, 'phone': 0}\n",
      "d1wgiodc53k\t{'https://www.google.com/': 45}\n",
      "2wpdvj73oou\t{}\n",
      "zwq78tx53ib\t{'https://www.google.com/': 4}\n",
      "zoumk7kg3yq\t{'https://www.google.com/': 5}\n",
      "9tgpozqqg7d\t{'https://www.google.com/': 6, 'https://quizlet.com/': 10}\n",
      "s4ni7dbb7y\t{'https://uchicago.zoom.us/': 1, 'https://outlook.office.com/': 10, 'https://webshell.suite.office.com/': 7, 'https://www.google.com/': 4}\n",
      "5tpckk3d14e\t{'https://www.youtube.com/': 21}\n",
      "grr97iqp57r\t{'https://www.loom.com/': 2, 'https://calendly.com/': 5}\n",
      "kix7pup4zh\t{'https://quizlet.com/': 3}\n",
      "699mztw4z75\t{'https://www.google.com/': 190, 'https://scone-pa.clients6.google.com/': 2, 'https://www.instagram.com/': 14, 'https://www.youtube.com/': 40, 'https://ogs.google.com/': 7, 'https://quizlet.com/': 62}\n",
      "dknglbh1h3\t{'https://www.facebook.com/': 5161, 'https://docs.google.com/': 24373, 'https://quizlet.com/': 164, 'https://www.google.com/': 10408, 'https://outlook.office.com/': 6065, 'https://edstem.org/': 717, 'https://ogs.google.com/': 1107, 'https://service.force.com/': 9, 'https://uchicago.zoom.us/': 52, 'https://clients5.google.com/': 17, 'https://accounts.google.com/': 86, 'https://accounts.youtube.com/': 2, 'https://www.youtube.com/': 1057, 'https://uchicagossecretplaces.wordpress.com/': 191, 'https://public-api.wordpress.com/': 3, 'https://drive.google.com/': 811, 'https://clients6.google.com/': 20, 'https://contacts.google.com/': 57, 'https://calendar.google.com/': 1922, 'https://scone-pa.clients6.google.com/': 8, 'https://platform.twitter.com/': 2, 'https://www.ftc.gov/': 79, 'https://webshell.suite.office.com/': 37, 'https://en.wikipedia.org/': 29, 'https://create.microsoft.com/': 234, 'https://canvadocs.instructure.com/': 25, 'https://www.citationmachine.net/': 173, 'https://scholar.google.com/': 17, 'https://www.nytimes.com/': 177, 'https://mail.google.com/': 1069, 'https://chat.google.com/': 1330, 'https://meet.google.com/': 121, 'https://player.vimeo.com/': 41, 'https://www.surveymonkey.com/': 33}\n",
      "p0fjtio4mr\t{}\n",
      "80yfsk3rrlc\t{'https://www.google.com/': 1}\n",
      "zu7pjmkeoi\t{'https://outlook.office.com/': 14185, 'https://www.google.com/': 9624, 'https://ogs.google.com/': 693, 'https://accounts.google.com/': 90, 'https://acrobat.adobe.com/': 4172, 'https://edstem.org/': 1022, 'https://docs.google.com/': 9633, 'https://www.youtube.com/': 11129, 'https://us.edstem.org/': 2, 'https://l.facebook.com/': 4, 'https://webshell.suite.office.com/': 144, 'https://drive.google.com/': 1787, 'https://canvadocs.instructure.com/': 41, 'https://eds.p.ebscohost.com/': 3, 'https://search.ebscohost.com/': 39, 'https://eds.s.ebscohost.com/': 394, 'https://widgets.ebscohost.com/': 3, 'https://sdc-evs.ebscohost.com/': 260, 'https://www.amazon.com/': 1356, 'https://uchicago.zoom.us/': 34, 'https://clients6.google.com/': 48, 'https://contacts.google.com/': 142, 'https://www.linkedin.com/': 548, 'https://clients5.google.com/': 5, 'https://mail.google.com/': 2890, 'https://www.paypal.com/': 5, 'https://c.paypal.com/': 2, 'https://scone-pa.clients6.google.com/': 3, 'https://www.instagram.com/': 46, 'https://myaccount.google.com/': 33, 'https://groups.google.com/': 38, 'https://people-pa.clients6.google.com/': 3, 'https://lightroom.adobe.com/': 27, 'https://www.facebook.com/': 2, 'https://keep.google.com/': 15, 'https://keep-pa.clients6.google.com/': 2}\n",
      "4485kqex0zs\t{}\n",
      "4q68v2cg2pl\t{'https://docs.google.com/': 3, 'https://drive.google.com/': 3, 'https://www.google.com/': 29, 'https://www.facebook.com/': 5, 'https://www.amazon.com/': 1, 'https://webshell.suite.office.com/': 1}\n",
      "l9duvpdz9m8\t{'https://www.youtube.com/': 12, 'https://quizlet.com/': 36, 'https://accounts.google.com/': 1, 'https://twitter.com/': 49}\n",
      "y9y0arr5kpm\t{}\n",
      "jktgjnvw8r\t{'https://calendar.google.com/': 10, 'https://mail.google.com/': 3}\n"
     ]
    }
   ],
   "source": [
    "for u in users:\n",
    "    print(u + \"\\t\" + str(users.get(u).get(\"body\")) )\n",
    "    \n",
    "for u in users:\n",
    "    print(u + \"\\t\" + str(users.get(u).get(\"URLs\")) )"
   ]
  },
  {
   "cell_type": "code",
   "execution_count": 14,
   "id": "94ea7668",
   "metadata": {},
   "outputs": [
    {
     "name": "stdout",
     "output_type": "stream",
     "text": [
      "186308\n"
     ]
    }
   ],
   "source": [
    "normalizeddata = []\n",
    "\n",
    "for d in getrequests: \n",
    "    if d.get('report').get('user_id') != \"dknglbh1h3\" and d.get('report').get('user_id') != \"zu7pjmkeoi\":\n",
    "        normalizeddata.append(d)\n",
    "\n",
    "print(len(normalizeddata))            "
   ]
  },
  {
   "cell_type": "code",
   "execution_count": 15,
   "id": "c2c33908",
   "metadata": {
    "scrolled": true
   },
   "outputs": [
    {
     "name": "stdout",
     "output_type": "stream",
     "text": [
      "592\n"
     ]
    }
   ],
   "source": [
    "leaksOnlyNormalized = []\n",
    "\n",
    "for d in normalizeddata: \n",
    "    if d.get('report').get('initiator_domain') != None:\n",
    "        leaksOnlyNormalized.append(d)\n",
    "        \n",
    "print(len(leaksOnlyNormalized))            "
   ]
  },
  {
   "cell_type": "markdown",
   "id": "921e18b0",
   "metadata": {},
   "source": [
    "The number of entries was reduced by 114,411 via filtering out of the two outlying users. There are 114,021 entries in which dknglbh1h3 or zu7pjmkeoi had a last name leak. Numbers seemingly track-- those two users had their last name \"leaked\" with nearly every search.\n",
    "\n",
    "Filtering out entries without an initiator domain, we find that there are only 592 entries (down from the initial >100,000 leaked data entries detected-- so evidently those users were drastically skewing the data."
   ]
  },
  {
   "cell_type": "code",
   "execution_count": 16,
   "id": "6a3a9537",
   "metadata": {},
   "outputs": [],
   "source": [
    "import copy\n",
    "\n",
    "sites = {}\n",
    "\n",
    "leakCount = {\n",
    "    \"lastname\":0,\n",
    "    \"firstname\":0,\n",
    "    \"preferredname\":0,\n",
    "    \"id\":0,\n",
    "    \"email\":0,\n",
    "    \"phone\":0,\n",
    "}"
   ]
  },
  {
   "cell_type": "code",
   "execution_count": 17,
   "id": "2ae87443",
   "metadata": {},
   "outputs": [
    {
     "name": "stdout",
     "output_type": "stream",
     "text": [
      "https://www.google.com/\n",
      "https://uchicago.zoom.us/\n",
      "https://outlook.office.com/\n",
      "https://www.youtube.com/\n",
      "https://webshell.suite.office.com/\n",
      "https://www.loom.com/\n",
      "https://quizlet.com/\n",
      "https://calendly.com/\n",
      "https://scone-pa.clients6.google.com/\n",
      "https://www.instagram.com/\n",
      "https://ogs.google.com/\n",
      "https://docs.google.com/\n",
      "https://drive.google.com/\n",
      "https://accounts.google.com/\n",
      "https://twitter.com/\n",
      "https://calendar.google.com/\n",
      "https://mail.google.com/\n",
      "https://www.facebook.com/\n",
      "https://www.amazon.com/\n"
     ]
    }
   ],
   "source": [
    "initiatorDomains = []\n",
    "\n",
    "for d in leaksOnlyNormalized:\n",
    "    domain = d.get('report').get('initiator_domain')\n",
    "    if domain not in sites:\n",
    "        sites[domain] = copy.deepcopy(leakCount)\n",
    "        print(domain)\n",
    "        initiatorDomains.append(domain)\n"
   ]
  },
  {
   "cell_type": "markdown",
   "id": "9bb05dcf",
   "metadata": {},
   "source": [
    "The list of initiator domains is worryingly short? Don't know if this pilot dataset is just that small or if something else is going on. Maybe an oversight on my part, but might just also mean we need a bigger dataset to make any more meaningful conclusions."
   ]
  },
  {
   "cell_type": "code",
   "execution_count": 18,
   "id": "5e7e0c3e",
   "metadata": {},
   "outputs": [],
   "source": [
    "for d in leaksOnlyNormalized:\n",
    "    domain = d.get('report').get('initiator_domain')\n",
    "    url_leak_type = d.get('report').get('url_leak_type')\n",
    "    \n",
    "    if url_leak_type != None:\n",
    "        for e in url_leak_type:\n",
    "            sites[domain][e] = sites[domain][e] + 1"
   ]
  },
  {
   "cell_type": "code",
   "execution_count": 19,
   "id": "e2dc1060",
   "metadata": {
    "scrolled": true
   },
   "outputs": [
    {
     "name": "stdout",
     "output_type": "stream",
     "text": [
      "+---------------------------------------+-------------+--------------+--------------+------+---------+-----------+\n",
      "| DOMAIN                                |   Last Name |   First Name |   Pref. Name |   ID |   Email |   Phone # |\n",
      "+=======================================+=============+==============+==============+======+=========+===========+\n",
      "| https://www.google.com/               |          62 |          194 |           38 |    3 |      48 |        23 |\n",
      "+---------------------------------------+-------------+--------------+--------------+------+---------+-----------+\n",
      "| https://uchicago.zoom.us/             |           0 |            1 |            1 |    0 |       0 |         0 |\n",
      "+---------------------------------------+-------------+--------------+--------------+------+---------+-----------+\n",
      "| https://outlook.office.com/           |           0 |           10 |           10 |    0 |       4 |         0 |\n",
      "+---------------------------------------+-------------+--------------+--------------+------+---------+-----------+\n",
      "| https://www.youtube.com/              |           0 |           40 |           33 |    0 |       0 |         0 |\n",
      "+---------------------------------------+-------------+--------------+--------------+------+---------+-----------+\n",
      "| https://webshell.suite.office.com/    |           0 |            7 |            8 |    0 |       0 |         0 |\n",
      "+---------------------------------------+-------------+--------------+--------------+------+---------+-----------+\n",
      "| https://www.loom.com/                 |           2 |            0 |            0 |    0 |       2 |         0 |\n",
      "+---------------------------------------+-------------+--------------+--------------+------+---------+-----------+\n",
      "| https://quizlet.com/                  |           0 |           62 |           39 |    0 |      10 |         0 |\n",
      "+---------------------------------------+-------------+--------------+--------------+------+---------+-----------+\n",
      "| https://calendly.com/                 |           5 |            5 |            5 |    0 |       0 |         0 |\n",
      "+---------------------------------------+-------------+--------------+--------------+------+---------+-----------+\n",
      "| https://scone-pa.clients6.google.com/ |           0 |            2 |            0 |    0 |       0 |         0 |\n",
      "+---------------------------------------+-------------+--------------+--------------+------+---------+-----------+\n",
      "| https://www.instagram.com/            |           0 |           14 |            0 |    0 |       0 |         0 |\n",
      "+---------------------------------------+-------------+--------------+--------------+------+---------+-----------+\n",
      "| https://ogs.google.com/               |           0 |            7 |            0 |    0 |       0 |         0 |\n",
      "+---------------------------------------+-------------+--------------+--------------+------+---------+-----------+\n",
      "| https://docs.google.com/              |           1 |            0 |            2 |    1 |       1 |         1 |\n",
      "+---------------------------------------+-------------+--------------+--------------+------+---------+-----------+\n",
      "| https://drive.google.com/             |           1 |            0 |            2 |    1 |       1 |         1 |\n",
      "+---------------------------------------+-------------+--------------+--------------+------+---------+-----------+\n",
      "| https://accounts.google.com/          |           0 |            0 |            1 |    0 |       0 |         0 |\n",
      "+---------------------------------------+-------------+--------------+--------------+------+---------+-----------+\n",
      "| https://twitter.com/                  |           0 |            0 |           49 |    0 |       0 |         0 |\n",
      "+---------------------------------------+-------------+--------------+--------------+------+---------+-----------+\n",
      "| https://calendar.google.com/          |           0 |            0 |            0 |   10 |       0 |         0 |\n",
      "+---------------------------------------+-------------+--------------+--------------+------+---------+-----------+\n",
      "| https://mail.google.com/              |           0 |            3 |            0 |    0 |       0 |         0 |\n",
      "+---------------------------------------+-------------+--------------+--------------+------+---------+-----------+\n",
      "| https://www.facebook.com/             |           0 |            0 |            3 |    2 |       0 |         0 |\n",
      "+---------------------------------------+-------------+--------------+--------------+------+---------+-----------+\n",
      "| https://www.amazon.com/               |           0 |            0 |            0 |    1 |       0 |         0 |\n",
      "+---------------------------------------+-------------+--------------+--------------+------+---------+-----------+\n"
     ]
    }
   ],
   "source": [
    "data = []\n",
    "for d in sites:\n",
    "    entry = []\n",
    "    entry.append(d)\n",
    "    for e in sites.get(d):\n",
    "        entry.append(sites.get(d).get(e))\n",
    "    \n",
    "    data.append(entry)\n",
    "\n",
    "headers = ['DOMAIN', 'Last Name', 'First Name','Pref. Name', 'ID', 'Email', \"Phone #\"]\n",
    "table = tabulate(data, headers=headers, tablefmt='grid')\n",
    "print(table)"
   ]
  },
  {
   "cell_type": "markdown",
   "id": "8c1c1091",
   "metadata": {},
   "source": [
    "This has already been said, but with internal trackers, I doubt this is the full extent of what data collection is occurring"
   ]
  },
  {
   "cell_type": "code",
   "execution_count": 20,
   "id": "46625171",
   "metadata": {},
   "outputs": [],
   "source": [
    "from urllib.parse import urlparse, urlunparse\n",
    "\n",
    "def shorten(url):\n",
    "    # Parse the URL into its components\n",
    "    parsed_url = urlparse(url)\n",
    "\n",
    "    # Reconstruct the URL with only the scheme, netloc, and fragment\n",
    "    new_url = urlunparse((parsed_url.scheme, parsed_url.netloc, '', '', '', parsed_url.fragment))\n",
    "\n",
    "    return new_url"
   ]
  },
  {
   "cell_type": "code",
   "execution_count": 21,
   "id": "f493b72b",
   "metadata": {
    "scrolled": false
   },
   "outputs": [
    {
     "name": "stdout",
     "output_type": "stream",
     "text": [
      "{'https://www.google.com': 131, 'https://fonts.gstatic.com': 8, 'https://www.gstatic.com': 34, 'https://id.google.com': 2, 'https://www.google.coLEAKED_FIRSTNAME': 43, 'https://www.gstatic.coLEAKED_FIRSTNAME': 33, 'https://apis.google.coLEAKED_FIRSTNAME': 7, '': 1, 'https://encrypted-tbn0.gstatic.com': 3, 'https://adservice.LEAKED_FIRSTNAME.com': 7, 'https://ogs.google.com': 0, 'https://www.google.LEAKED_FIRSTNAME': 1, 'https://lh3.googleusercontent.com': 1}\n"
     ]
    }
   ],
   "source": [
    "domainsAndLeaks = {}\n",
    "\n",
    "\n",
    "for mainDomain in initiatorDomains:\n",
    "    \n",
    "    leakURLs = {}\n",
    "    \n",
    "    for d in leaksOnlyNormalized:\n",
    "        domain = d.get('report').get('initiator_domain')\n",
    "        if domain == mainDomain:\n",
    "            leakURL = d.get('report').get('leak_url')\n",
    "            leakURL = shorten(leakURL)\n",
    "        \n",
    "            if leakURL not in leakURLs:\n",
    "                leakURLs[leakURL] = 0\n",
    "            else:\n",
    "                leakURLs[leakURL] += 1\n",
    "                \n",
    "    domainsAndLeaks[mainDomain] = leakURLs\n",
    "    \n",
    "print(domainsAndLeaks[\"https://www.google.com/\"])\n",
    "        "
   ]
  },
  {
   "cell_type": "markdown",
   "id": "5da1a0ae",
   "metadata": {},
   "source": [
    "Some weird quirks here: for example, some of the URLs seem to be broken & including \"LEAKED_FIRSTNAME\" in places where it clearly shouldn't be. There's also an entire URL that seems to be wiped clean (I suspect that was marked Null in the original dataset, though how there's a leak without a Leak URL probably also warrants investigation). It might be due to the package I'm using to shorten the URLs, but I suspect it's more likely a relic of the scanner that needs to be fixed: maybe it should only be looking for leaks after the top level domain? Warrants discussion-- so for now I'll leave the error intact instead of manually paving over it until the cause is found"
   ]
  },
  {
   "cell_type": "code",
   "execution_count": 22,
   "id": "f3e005cf",
   "metadata": {},
   "outputs": [
    {
     "name": "stdout",
     "output_type": "stream",
     "text": [
      "https://www.google.com/\n",
      "https://uchicago.zoom.us/\n",
      "https://outlook.office.com/\n",
      "https://www.youtube.com/\n",
      "https://webshell.suite.office.com/\n",
      "https://www.loom.com/\n",
      "https://quizlet.com/\n",
      "https://calendly.com/\n",
      "https://scone-pa.clients6.google.com/\n",
      "https://www.instagram.com/\n",
      "https://ogs.google.com/\n",
      "https://docs.google.com/\n",
      "https://drive.google.com/\n",
      "https://accounts.google.com/\n",
      "https://twitter.com/\n",
      "https://calendar.google.com/\n",
      "https://mail.google.com/\n",
      "https://www.facebook.com/\n",
      "https://www.amazon.com/\n"
     ]
    }
   ],
   "source": [
    "for d in initiatorDomains:\n",
    "    print(d)"
   ]
  },
  {
   "cell_type": "code",
   "execution_count": null,
   "id": "98cd1013",
   "metadata": {},
   "outputs": [],
   "source": [
    "import os\n",
    "os.system('cls')\n",
    "\n",
    "value = input(\"Please request an initiator domain from the list above, or type 'exit' to close: \")\n",
    "\n",
    "while True:\n",
    "    \n",
    "    os.system('cls')\n",
    "    if value == \"exit\":\n",
    "        break\n",
    "    data = domainsAndLeaks[value]\n",
    "    table_data = [[key, value] for key, value in data.items()]\n",
    "\n",
    "    table = tabulate(table_data, headers=[\"Attribute\", \"Value\"], tablefmt=\"grid\")\n",
    "    print(table)\n",
    "    print(\"\\n\\n\")\n",
    "    value = input(\"Please request an initiator domain, or type 'exit' to close: \")\n",
    "    "
   ]
  },
  {
   "cell_type": "markdown",
   "id": "c2cb7f87",
   "metadata": {},
   "source": [
    "This is a clunky little piece of code, and in future versions it might be better to just print everything, but I find this is a good way to make it easy to compare two specific URLs and keep the view short and sweet by focusing on what we determine relevant."
   ]
  },
  {
   "cell_type": "code",
   "execution_count": null,
   "id": "1966f934",
   "metadata": {},
   "outputs": [],
   "source": []
  }
 ],
 "metadata": {
  "kernelspec": {
   "display_name": "Python 3 (ipykernel)",
   "language": "python",
   "name": "python3"
  },
  "language_info": {
   "codemirror_mode": {
    "name": "ipython",
    "version": 3
   },
   "file_extension": ".py",
   "mimetype": "text/x-python",
   "name": "python",
   "nbconvert_exporter": "python",
   "pygments_lexer": "ipython3",
   "version": "3.11.4"
  }
 },
 "nbformat": 4,
 "nbformat_minor": 5
}
