{
 "cells": [
  {
   "cell_type": "code",
   "execution_count": 1,
   "id": "bfc5aab2",
   "metadata": {},
   "outputs": [],
   "source": [
    "import json\n",
    "#import seaborn as sns \n",
    "#import matplotlib.pyplot as plt"
   ]
  },
  {
   "cell_type": "code",
   "execution_count": 1,
   "id": "f205a5cc",
   "metadata": {},
   "outputs": [],
   "source": [
    "mainfile = \"result_2023_6_8.json\"\n",
    "#CHANGE"
   ]
  },
  {
   "cell_type": "code",
   "execution_count": 3,
   "id": "d2232d5b",
   "metadata": {},
   "outputs": [],
   "source": [
    "maindata = []\n",
    "with open(mainfile, 'r') as f:\n",
    "  for entry in f:\n",
    "      oneEntry = json.loads(entry)\n",
    "      maindata.append(oneEntry)"
   ]
  },
  {
   "cell_type": "code",
   "execution_count": 4,
   "id": "2d6b720b",
   "metadata": {},
   "outputs": [],
   "source": [
    "filtered_data = []\n",
    "for d in maindata: \n",
    "  if d.get('report') != None: #not empty\n",
    "    if d.get('report').get('user_id') != None: \n",
    "      filtered_data.append(d)"
   ]
  },
  {
   "cell_type": "code",
   "execution_count": 5,
   "id": "ffb6aeab",
   "metadata": {},
   "outputs": [
    {
     "data": {
      "text/plain": [
       "list"
      ]
     },
     "execution_count": 5,
     "metadata": {},
     "output_type": "execute_result"
    }
   ],
   "source": [
    "type(maindata)"
   ]
  },
  {
   "cell_type": "code",
   "execution_count": 6,
   "id": "3064a262",
   "metadata": {},
   "outputs": [
    {
     "name": "stdout",
     "output_type": "stream",
     "text": [
      "688185 533229\n"
     ]
    }
   ],
   "source": [
    "print(len(maindata),\n",
    "len(filtered_data))"
   ]
  },
  {
   "cell_type": "code",
   "execution_count": 7,
   "id": "684560ca",
   "metadata": {},
   "outputs": [],
   "source": [
    "empty_data = []\n",
    "for d in maindata: \n",
    "    if d.get('report') != None: \n",
    "        if d.get('report').get('user_id') == None:\n",
    "            empty_data.append(d)"
   ]
  },
  {
   "cell_type": "code",
   "execution_count": 8,
   "id": "9ec5eb8e",
   "metadata": {},
   "outputs": [
    {
     "data": {
      "text/plain": [
       "139405"
      ]
     },
     "execution_count": 8,
     "metadata": {},
     "output_type": "execute_result"
    }
   ],
   "source": [
    "len(empty_data)"
   ]
  },
  {
   "cell_type": "code",
   "execution_count": 9,
   "id": "1bae1ef2",
   "metadata": {},
   "outputs": [
    {
     "data": {
      "text/plain": [
       "0.2025690766291041"
      ]
     },
     "execution_count": 9,
     "metadata": {},
     "output_type": "execute_result"
    }
   ],
   "source": [
    "len(empty_data)/len(maindata)"
   ]
  },
  {
   "cell_type": "code",
   "execution_count": 10,
   "id": "4e63cf8c",
   "metadata": {},
   "outputs": [
    {
     "data": {
      "text/plain": [
       "533229"
      ]
     },
     "execution_count": 10,
     "metadata": {},
     "output_type": "execute_result"
    }
   ],
   "source": [
    "len(filtered_data)"
   ]
  },
  {
   "cell_type": "code",
   "execution_count": 11,
   "id": "8a589fd1",
   "metadata": {},
   "outputs": [
    {
     "data": {
      "text/plain": [
       "{'_id': {'$oid': '64471fbb174dab7e4b463c1e'},\n",
       " 'report': {'user_id': 'd1wgiodc53k',\n",
       "  'school_district': 'Hamilton',\n",
       "  'grade': '12',\n",
       "  'request_method': 'GET',\n",
       "  'timestamp': '2023-04-25T00:33:00.951Z',\n",
       "  'leak_url': None,\n",
       "  'initiator_domain': None,\n",
       "  'url_leak_type': None,\n",
       "  'body_leak_type': [],\n",
       "  'tracker_info': {'action': 'ignore',\n",
       "   'reason': 'first party',\n",
       "   'firstParty': True,\n",
       "   'redirectUrl': False,\n",
       "   'matchedRule': None,\n",
       "   'matchedRuleException': False,\n",
       "   'tracker': {'domain': 'gstatic.com',\n",
       "    'owner': {'name': 'Google LLC',\n",
       "     'displayName': 'Google',\n",
       "     'privacyPolicy': 'https://policies.google.com/privacy?hl=en&gl=us',\n",
       "     'url': 'http://google.com'},\n",
       "    'prevalence': 0.502,\n",
       "    'fingerprinting': 2,\n",
       "    'cookies': 0.00112,\n",
       "    'categories': ['Content Delivery', 'Embedded Content'],\n",
       "    'default': 'ignore',\n",
       "    'rules': [{'rule': {}, 'fingerprinting': 3, 'cookies': 0},\n",
       "     {'rule': {}, 'fingerprinting': 3, 'cookies': 0},\n",
       "     {'rule': {}, 'fingerprinting': 0, 'cookies': 0, 'comment': 'pixel'},\n",
       "     {'rule': {}, 'fingerprinting': 0, 'cookies': 0, 'comment': 'pixel'}]},\n",
       "   'fullTrackerDomain': 'fonts.gstatic.com'}}}"
      ]
     },
     "execution_count": 11,
     "metadata": {},
     "output_type": "execute_result"
    }
   ],
   "source": [
    "filtered_data[2]"
   ]
  },
  {
   "cell_type": "code",
   "execution_count": 12,
   "id": "2dc11c57",
   "metadata": {},
   "outputs": [
    {
     "name": "stdout",
     "output_type": "stream",
     "text": [
      "http://google.com\n"
     ]
    }
   ],
   "source": [
    "'''example'''\n",
    "print(filtered_data[0]['report']['tracker_info']['tracker']['owner']['url'])"
   ]
  },
  {
   "cell_type": "code",
   "execution_count": 13,
   "id": "11b5a830",
   "metadata": {},
   "outputs": [
    {
     "name": "stdout",
     "output_type": "stream",
     "text": [
      "288202\n"
     ]
    }
   ],
   "source": [
    "#get all urls in a list\n",
    "urls = []\n",
    "for d in filtered_data: \n",
    "    rep = d['report']\n",
    "    if rep.get('tracker_info') != None: #some reports do not have tracker info\n",
    "        if rep['tracker_info'].get('tracker').get('owner').get('url') != None: #all reports with tracker info, have the following\n",
    "            urls.append(d['report']['tracker_info']['tracker']['owner']['url'])\n",
    "print(len(urls))"
   ]
  },
  {
   "cell_type": "code",
   "execution_count": 14,
   "id": "72d4ba03",
   "metadata": {},
   "outputs": [
    {
     "name": "stdout",
     "output_type": "stream",
     "text": [
      "['http://google.com', 'http://google.com', 'http://google.com', 'http://google.com', 'http://google.com', 'http://google.com', 'http://google.com', 'http://google.com', 'http://google.com', 'http://google.com']\n"
     ]
    }
   ],
   "source": [
    "print(urls[0:10])"
   ]
  },
  {
   "cell_type": "code",
   "execution_count": 15,
   "id": "3021b711",
   "metadata": {},
   "outputs": [
    {
     "data": {
      "text/plain": [
       "0.5404844822768454"
      ]
     },
     "execution_count": 15,
     "metadata": {},
     "output_type": "execute_result"
    }
   ],
   "source": [
    "len(urls)/len(filtered_data)"
   ]
  },
  {
   "cell_type": "code",
   "execution_count": 16,
   "id": "8d0dda7a",
   "metadata": {},
   "outputs": [
    {
     "name": "stdout",
     "output_type": "stream",
     "text": [
      "76\n"
     ]
    }
   ],
   "source": [
    "print(len(set(urls)))"
   ]
  },
  {
   "cell_type": "code",
   "execution_count": 35,
   "id": "eaf26669",
   "metadata": {},
   "outputs": [],
   "source": [
    "def simple_produce_count(list):\n",
    "    count_d = {}\n",
    "    for i in list: \n",
    "        if i in count_d: \n",
    "            a = count_d.get(i)\n",
    "            count_d[i] = a + 1\n",
    "        else: \n",
    "            count_d[i] = 1\n",
    "            \n",
    "    return dict(sorted(count_d.items(), key=lambda x:x[1], reverse = True))"
   ]
  },
  {
   "cell_type": "code",
   "execution_count": 36,
   "id": "89c30421",
   "metadata": {},
   "outputs": [
    {
     "data": {
      "text/plain": [
       "dict"
      ]
     },
     "execution_count": 36,
     "metadata": {},
     "output_type": "execute_result"
    }
   ],
   "source": [
    "type(simple_produce_count(urls))"
   ]
  },
  {
   "cell_type": "code",
   "execution_count": 19,
   "id": "50244ff0",
   "metadata": {},
   "outputs": [
    {
     "data": {
      "text/plain": [
       "{'http://google.com': 277474,\n",
       " 'http://facebook.com': 3496,\n",
       " 'http://microsoft.com': 1436,\n",
       " 'http://amazon.com': 1313,\n",
       " 'http://pubmatic.com': 896,\n",
       " 'http://twitter.com': 754,\n",
       " 'http://sharethrough.com': 301,\n",
       " 'http://verizon.com': 288,\n",
       " 'http://magnite.com': 279,\n",
       " 'http://media.net': 276,\n",
       " 'http://sonobi.com': 273,\n",
       " 'http://teads.tv': 264,\n",
       " 'http://newrelic.com': 144,\n",
       " 'http://adobe.com': 127,\n",
       " 'http://adlightning.com': 112,\n",
       " 'http://comscore.com': 106,\n",
       " 'http://cloudflare.com': 73,\n",
       " 'http://criteo.com': 61,\n",
       " 'http://id5.io': 44,\n",
       " 'http://automattic.com': 43,\n",
       " 'http://triplelift.com': 34,\n",
       " 'http://quantcast.com': 33,\n",
       " 'http://heap.io': 32,\n",
       " 'http://amplitude.com': 30,\n",
       " 'http://segment.io': 24,\n",
       " 'http://casalemedia.com': 24,\n",
       " 'http://demandbase.com': 20,\n",
       " 'http://oracle.com': 19,\n",
       " 'http://iponweb.com': 17,\n",
       " 'http://lotame.com': 16,\n",
       " 'http://conversantmedia.com': 15,\n",
       " 'http://paypal.com': 13,\n",
       " 'http://bouncex.com': 12,\n",
       " 'http://optimizely.com': 11,\n",
       " 'http://33across.com': 11,\n",
       " 'http://thetradedesk.com': 11,\n",
       " 'http://intentiq.com': 10,\n",
       " 'http://intuit.com': 9,\n",
       " 'http://tapad.com': 9,\n",
       " 'http://sovrn.com': 8,\n",
       " 'http://openx.com': 6,\n",
       " 'http://disqus.com': 6,\n",
       " 'http://akamai.com': 5,\n",
       " 'http://redditinc.com': 5,\n",
       " 'http://mediamath.com': 5,\n",
       " 'http://smartadserver.com': 4,\n",
       " 'http://adyoulike.com': 4,\n",
       " 'http://pulsepoint.com': 4,\n",
       " 'http://beeswax.com': 4,\n",
       " 'http://outbrain.com': 4,\n",
       " 'http://doubleverify.com': 4,\n",
       " 'http://smaato.com': 2,\n",
       " 'http://gumgum.com': 2,\n",
       " 'http://chartbeat.com': 2,\n",
       " 'http://stackadapt.com': 2,\n",
       " 'http://ipredictive.com': 2,\n",
       " 'http://rhythmone.com': 2,\n",
       " 'http://unruly.co': 2,\n",
       " 'http://platform161.com': 2,\n",
       " 'http://fullstory.com': 1,\n",
       " 'http://ebay.com': 1,\n",
       " 'http://brightcove.com': 1,\n",
       " 'http://brandmetrics.com': 1,\n",
       " 'http://iteratehq.com': 1,\n",
       " 'http://zetaglobal.com': 1,\n",
       " 'http://proclivitysystems.com': 1,\n",
       " 'http://primis.tech': 1,\n",
       " 'http://adform.com': 1,\n",
       " 'http://rtbhouse.com': 1,\n",
       " 'http://deepintent.com': 1,\n",
       " 'http://nielsen.com': 1,\n",
       " 'http://roku.com': 1,\n",
       " 'http://storygize.com': 1,\n",
       " 'http://adkernel.com': 1,\n",
       " 'http://loopme.com': 1,\n",
       " 'http://addtoany.com': 1}"
      ]
     },
     "execution_count": 19,
     "metadata": {},
     "output_type": "execute_result"
    }
   ],
   "source": [
    "#counting how many times a url appears in the reports, and sorting in order\n",
    "sorted_count_urls = produce_count_dict(urls)\n",
    "sorted_count_urls"
   ]
  },
  {
   "cell_type": "markdown",
   "id": "6d65ad1e",
   "metadata": {},
   "source": [
    "interesting websites from a bird eye view: \n",
    "- a few web add related websites (eg. tradedesk, smartadserver, adyoulike, adform, gumgum)\n",
    "- paypal has 13 findings --> google, amazon also have credit card details\n",
    "\n",
    "also, interesting is to look at the top ones with obscure websites eg. \n",
    " ('http://pubmatic.com', 896), --> media company \"digital marketing\" \n",
    " ('http://sharethrough.com', 301), --> \"human centric programmatic advertising\" \n",
    " \n",
    "I guess this makes sense that these are the ones picked up, as they do collect user data"
   ]
  },
  {
   "cell_type": "markdown",
   "id": "ef45a27f",
   "metadata": {},
   "source": [
    "## What the data is"
   ]
  },
  {
   "cell_type": "code",
   "execution_count": 20,
   "id": "9044c09d",
   "metadata": {},
   "outputs": [
    {
     "data": {
      "text/plain": [
       "{'user_id': 'd1wgiodc53k',\n",
       " 'school_district': 'Hamilton',\n",
       " 'grade': '12',\n",
       " 'request_method': 'GET',\n",
       " 'timestamp': '2023-04-25T00:33:00.951Z',\n",
       " 'leak_url': None,\n",
       " 'initiator_domain': None,\n",
       " 'url_leak_type': None,\n",
       " 'body_leak_type': [],\n",
       " 'tracker_info': {'action': 'ignore',\n",
       "  'reason': 'first party',\n",
       "  'firstParty': True,\n",
       "  'redirectUrl': False,\n",
       "  'matchedRule': None,\n",
       "  'matchedRuleException': False,\n",
       "  'tracker': {'domain': 'gstatic.com',\n",
       "   'owner': {'name': 'Google LLC',\n",
       "    'displayName': 'Google',\n",
       "    'privacyPolicy': 'https://policies.google.com/privacy?hl=en&gl=us',\n",
       "    'url': 'http://google.com'},\n",
       "   'prevalence': 0.502,\n",
       "   'fingerprinting': 2,\n",
       "   'cookies': 0.00112,\n",
       "   'categories': ['Content Delivery', 'Embedded Content'],\n",
       "   'default': 'ignore',\n",
       "   'rules': [{'rule': {}, 'fingerprinting': 3, 'cookies': 0},\n",
       "    {'rule': {}, 'fingerprinting': 3, 'cookies': 0},\n",
       "    {'rule': {}, 'fingerprinting': 0, 'cookies': 0, 'comment': 'pixel'},\n",
       "    {'rule': {}, 'fingerprinting': 0, 'cookies': 0, 'comment': 'pixel'}]},\n",
       "  'fullTrackerDomain': 'fonts.gstatic.com'}}"
      ]
     },
     "execution_count": 20,
     "metadata": {},
     "output_type": "execute_result"
    }
   ],
   "source": [
    "example_report = filtered_data[3]['report']\n",
    "example_report"
   ]
  },
  {
   "cell_type": "code",
   "execution_count": 21,
   "id": "48a4e295",
   "metadata": {},
   "outputs": [
    {
     "name": "stdout",
     "output_type": "stream",
     "text": [
      "533229\n"
     ]
    }
   ],
   "source": [
    "#what is leak_url and what is url_leak_type\n",
    "leak_type = []\n",
    "\n",
    "for i in filtered_data: \n",
    "    if i.get('report') != None: \n",
    "        leak_type.append(i['report']['url_leak_type'])\n",
    "        \n",
    "print(len(leak_type))"
   ]
  },
  {
   "cell_type": "code",
   "execution_count": 22,
   "id": "234f3f75",
   "metadata": {},
   "outputs": [],
   "source": [
    "nonempty_leak_type = []\n",
    "for i in leak_type: \n",
    "    if i != None: \n",
    "        nonempty_leak_type.append(i)"
   ]
  },
  {
   "cell_type": "code",
   "execution_count": 23,
   "id": "53490036",
   "metadata": {},
   "outputs": [
    {
     "name": "stdout",
     "output_type": "stream",
     "text": [
      "247236 ['lastname', 'email'] <class 'list'>\n"
     ]
    }
   ],
   "source": [
    "print(len(nonempty_leak_type), nonempty_leak_type[1], type(nonempty_leak_type[1]))"
   ]
  },
  {
   "cell_type": "code",
   "execution_count": 24,
   "id": "7359fdc2",
   "metadata": {},
   "outputs": [],
   "source": [
    "def return_unique(l: list): \n",
    "    '''\n",
    "    A function that does the same thing as a set(), but for unhashable types\n",
    "    '''\n",
    "    a = set()\n",
    "    \n",
    "    [[a.add(field) for field in item] for item in l]\n",
    "\n",
    "    return a"
   ]
  },
  {
   "cell_type": "code",
   "execution_count": 25,
   "id": "3d36d4d6",
   "metadata": {},
   "outputs": [
    {
     "data": {
      "text/plain": [
       "{'email', 'firstname', 'id', 'lastname', 'phone', 'preferredname'}"
      ]
     },
     "execution_count": 25,
     "metadata": {},
     "output_type": "execute_result"
    }
   ],
   "source": [
    "return_unique(nonempty_leak_type)"
   ]
  },
  {
   "cell_type": "code",
   "execution_count": 26,
   "id": "1491952d",
   "metadata": {},
   "outputs": [
    {
     "data": {
      "text/plain": [
       "[('firstname', 'preferredname'),\n",
       " ('email',),\n",
       " ('email', 'lastname'),\n",
       " ('email', 'id', 'lastname'),\n",
       " ('id',),\n",
       " ('lastname',),\n",
       " ('email', 'lastname', 'preferredname'),\n",
       " ('phone', 'preferredname'),\n",
       " ('firstname', 'lastname'),\n",
       " ('firstname', 'lastname', 'preferredname'),\n",
       " ('email', 'firstname', 'preferredname'),\n",
       " ('id', 'lastname'),\n",
       " ('preferredname',),\n",
       " ('firstname',),\n",
       " ('lastname', 'preferredname')]"
      ]
     },
     "execution_count": 26,
     "metadata": {},
     "output_type": "execute_result"
    }
   ],
   "source": [
    "test_1 = list(set(tuple(sorted(sub)) for sub in nonempty_leak_type))\n",
    "test_1"
   ]
  },
  {
   "cell_type": "code",
   "execution_count": 27,
   "id": "1e6dc733",
   "metadata": {},
   "outputs": [],
   "source": [
    "def produce_count_dict(l):\n",
    "    d_keys = list(set(tuple(sorted(sub)) for sub in l))\n",
    "    count_d = {field: None for field in d_keys}\n",
    "    for i in l: \n",
    "        if sorted(i) in count_d: \n",
    "            a = count_d.get(j)\n",
    "            count_d[j] = a + 1\n",
    "        else: \n",
    "            count_d[j] = 1\n",
    "    #sorting data\n",
    "    sorted_count = sorted(count_d.items(), key=lambda x:x[1], reverse = True)\n",
    "\n",
    "    return count_d"
   ]
  },
  {
   "cell_type": "code",
   "execution_count": 78,
   "id": "83c5f267",
   "metadata": {},
   "outputs": [
    {
     "data": {
      "text/plain": [
       "{'user_id': 'd1wgiodc53k',\n",
       " 'school_district': 'Hamilton',\n",
       " 'grade': '12',\n",
       " 'request_method': 'GET',\n",
       " 'timestamp': '2023-04-25T00:33:01.518Z',\n",
       " 'leak_url': None,\n",
       " 'initiator_domain': None,\n",
       " 'url_leak_type': None,\n",
       " 'body_leak_type': [],\n",
       " 'tracker_info': {'action': 'ignore',\n",
       "  'reason': 'first party',\n",
       "  'firstParty': True,\n",
       "  'redirectUrl': False,\n",
       "  'matchedRule': None,\n",
       "  'matchedRuleException': False,\n",
       "  'tracker': {'domain': 'gstatic.com',\n",
       "   'owner': {'name': 'Google LLC',\n",
       "    'displayName': 'Google',\n",
       "    'privacyPolicy': 'https://policies.google.com/privacy?hl=en&gl=us',\n",
       "    'url': 'http://google.com'},\n",
       "   'prevalence': 0.502,\n",
       "   'fingerprinting': 2,\n",
       "   'cookies': 0.00112,\n",
       "   'categories': ['Content Delivery', 'Embedded Content'],\n",
       "   'default': 'ignore',\n",
       "   'rules': [{'rule': {}, 'fingerprinting': 3, 'cookies': 0},\n",
       "    {'rule': {}, 'fingerprinting': 3, 'cookies': 0},\n",
       "    {'rule': {}, 'fingerprinting': 0, 'cookies': 0, 'comment': 'pixel'},\n",
       "    {'rule': {}, 'fingerprinting': 0, 'cookies': 0, 'comment': 'pixel'}]},\n",
       "  'fullTrackerDomain': 'www.gstatic.com'}}"
      ]
     },
     "execution_count": 78,
     "metadata": {},
     "output_type": "execute_result"
    }
   ],
   "source": [
    "for i in filtered_data: \n",
    "    pass\n",
    "filtered_data[12]['report']"
   ]
  },
  {
   "cell_type": "markdown",
   "id": "7a6ec7e3",
   "metadata": {},
   "source": [
    "things to do next\n",
    "- script to output a markdown/text file outputting the da\n",
    "- potential graphs\n",
    "- understanding trends (time series)\n",
    "- other types of data to look at \n",
    "- especially under fb/google/etc\n",
    "\n",
    "- create a started page for extension \n",
    "- then group by User\n",
    "\n",
    "also, explain what one entry is\n",
    "- does the order of the field counted matter? \n",
    "- should we open these tuples and sort by field itself, or as a packaged tuple"
   ]
  },
  {
   "cell_type": "markdown",
   "id": "c65cd456",
   "metadata": {},
   "source": [
    "## connecting field types with company"
   ]
  },
  {
   "cell_type": "code",
   "execution_count": 63,
   "id": "748bbbb2",
   "metadata": {},
   "outputs": [
    {
     "data": {
      "text/plain": [
       "76"
      ]
     },
     "execution_count": 63,
     "metadata": {},
     "output_type": "execute_result"
    }
   ],
   "source": [
    "final_count = {}\n",
    "\n",
    "for i in filtered_data: \n",
    "    if i['report'].get('tracker_info') != None: #some reports do not have tracker info\n",
    "        if i['report']['tracker_info'].get('tracker').get('owner').get('url') != None: #all reports w/ tracker info has the owner/url link\n",
    "            #getting urls (which will be the keys)\n",
    "            url = i['report']['tracker_info']['tracker']['owner']['url']\n",
    "            #getting leak types (which will be the keys for the nested dict for each url)\n",
    "            if i['report']['url_leak_type'] is None: \n",
    "                leak_type = \"None\"\n",
    "            else: \n",
    "                leak_type = i['report']['url_leak_type']\n",
    "                leak_type = tuple(sorted(leak_type)) #ADDING THE SORTED REMOVES FIELD DUPLICATES\n",
    "                            \n",
    "            if url in final_count: \n",
    "                #dic.get('b') == None: <-- another way to find \n",
    "                if leak_type in final_count[url]: \n",
    "                    final_count[url][leak_type] += 1\n",
    "                else: \n",
    "                    final_count[url][leak_type] = 1\n",
    "            else: \n",
    "                final_count[url] = {} #results in empty field dicts for some urls\n",
    "                \n",
    "len(final_count)"
   ]
  },
  {
   "cell_type": "code",
   "execution_count": 64,
   "id": "481e09dd",
   "metadata": {
    "scrolled": true
   },
   "outputs": [
    {
     "data": {
      "text/plain": [
       "{'http://google.com': {'None': 101748,\n",
       "  ('email', 'lastname'): 180,\n",
       "  ('id',): 22,\n",
       "  ('lastname',): 161619,\n",
       "  ('preferredname',): 33,\n",
       "  ('firstname', 'preferredname'): 415,\n",
       "  ('firstname',): 410,\n",
       "  ('firstname', 'lastname'): 9,\n",
       "  ('id', 'lastname'): 297,\n",
       "  ('firstname', 'lastname', 'preferredname'): 12706,\n",
       "  ('lastname', 'preferredname'): 7,\n",
       "  ('phone', 'preferredname'): 25,\n",
       "  ('email', 'id', 'lastname'): 2},\n",
       " 'http://heap.io': {'None': 26, ('lastname',): 5},\n",
       " 'http://cloudflare.com': {'None': 54,\n",
       "  ('lastname',): 17,\n",
       "  ('preferredname',): 1},\n",
       " 'http://twitter.com': {'None': 736, ('lastname',): 2, ('preferredname',): 15},\n",
       " 'http://intuit.com': {('lastname',): 8},\n",
       " 'http://facebook.com': {'None': 434,\n",
       "  ('lastname',): 3048,\n",
       "  ('id', 'lastname'): 9,\n",
       "  ('preferredname',): 4},\n",
       " 'http://newrelic.com': {'None': 1, ('lastname',): 142},\n",
       " 'http://microsoft.com': {'None': 744,\n",
       "  ('lastname',): 687,\n",
       "  ('lastname', 'preferredname'): 2,\n",
       "  ('id', 'lastname'): 1,\n",
       "  ('email', 'lastname'): 1},\n",
       " 'http://akamai.com': {'None': 1, ('lastname',): 3},\n",
       " 'http://segment.io': {'None': 23},\n",
       " 'http://amazon.com': {'None': 434,\n",
       "  ('lastname',): 866,\n",
       "  ('id', 'lastname'): 9,\n",
       "  ('lastname', 'preferredname'): 1,\n",
       "  ('preferredname',): 1,\n",
       "  ('id',): 1},\n",
       " 'http://quantcast.com': {'None': 32},\n",
       " 'http://comscore.com': {'None': 53, ('lastname',): 52},\n",
       " 'http://pubmatic.com': {'None': 818,\n",
       "  ('lastname',): 76,\n",
       "  ('preferredname',): 1},\n",
       " 'http://optimizely.com': {'None': 8, ('lastname',): 2},\n",
       " 'http://fullstory.com': {},\n",
       " 'http://magnite.com': {('lastname',): 20, 'None': 258},\n",
       " 'http://verizon.com': {('lastname',): 33, 'None': 254},\n",
       " 'http://teads.tv': {('lastname',): 21, 'None': 242},\n",
       " 'http://sonobi.com': {('lastname',): 21, 'None': 251},\n",
       " 'http://media.net': {('lastname',): 20, 'None': 255},\n",
       " 'http://sharethrough.com': {('lastname',): 19, 'None': 281},\n",
       " 'http://automattic.com': {('lastname',): 42},\n",
       " 'http://smartadserver.com': {('lastname',): 1, 'None': 2},\n",
       " 'http://casalemedia.com': {('lastname',): 3, 'None': 20},\n",
       " 'http://33across.com': {('lastname',): 6, 'None': 4},\n",
       " 'http://adyoulike.com': {('lastname',): 2, 'None': 1},\n",
       " 'http://triplelift.com': {'None': 31, ('lastname',): 2},\n",
       " 'http://iponweb.com': {('lastname',): 5, 'None': 11},\n",
       " 'http://smaato.com': {'None': 1},\n",
       " 'http://gumgum.com': {'None': 1},\n",
       " 'http://id5.io': {'None': 43},\n",
       " 'http://oracle.com': {('lastname',): 3, ('id', 'lastname'): 12, 'None': 3},\n",
       " 'http://criteo.com': {('lastname',): 15, 'None': 45},\n",
       " 'http://ebay.com': {},\n",
       " 'http://redditinc.com': {('lastname',): 3, 'None': 1},\n",
       " 'http://adobe.com': {('lastname',): 121, 'None': 5},\n",
       " 'http://brightcove.com': {},\n",
       " 'http://chartbeat.com': {('lastname',): 1},\n",
       " 'http://brandmetrics.com': {},\n",
       " 'http://thetradedesk.com': {'None': 10},\n",
       " 'http://iteratehq.com': {},\n",
       " 'http://adlightning.com': {'None': 109,\n",
       "  ('lastname',): 1,\n",
       "  ('preferredname',): 1},\n",
       " 'http://conversantmedia.com': {'None': 14},\n",
       " 'http://lotame.com': {'None': 15},\n",
       " 'http://openx.com': {'None': 5},\n",
       " 'http://zetaglobal.com': {},\n",
       " 'http://pulsepoint.com': {'None': 3},\n",
       " 'http://stackadapt.com': {'None': 1},\n",
       " 'http://intentiq.com': {'None': 9},\n",
       " 'http://tapad.com': {'None': 8},\n",
       " 'http://mediamath.com': {'None': 4},\n",
       " 'http://proclivitysystems.com': {},\n",
       " 'http://ipredictive.com': {'None': 1},\n",
       " 'http://primis.tech': {},\n",
       " 'http://sovrn.com': {'None': 7},\n",
       " 'http://beeswax.com': {'None': 3},\n",
       " 'http://rhythmone.com': {'None': 1},\n",
       " 'http://unruly.co': {'None': 1},\n",
       " 'http://disqus.com': {'None': 5},\n",
       " 'http://bouncex.com': {'None': 11},\n",
       " 'http://platform161.com': {'None': 1},\n",
       " 'http://adform.com': {},\n",
       " 'http://rtbhouse.com': {},\n",
       " 'http://outbrain.com': {'None': 3},\n",
       " 'http://demandbase.com': {('lastname',): 17, 'None': 2},\n",
       " 'http://doubleverify.com': {'None': 3},\n",
       " 'http://deepintent.com': {},\n",
       " 'http://nielsen.com': {},\n",
       " 'http://amplitude.com': {'None': 26, ('lastname',): 3},\n",
       " 'http://roku.com': {},\n",
       " 'http://storygize.com': {},\n",
       " 'http://adkernel.com': {},\n",
       " 'http://loopme.com': {},\n",
       " 'http://paypal.com': {('lastname',): 10, 'None': 2},\n",
       " 'http://addtoany.com': {}}"
      ]
     },
     "execution_count": 64,
     "metadata": {},
     "output_type": "execute_result"
    }
   ],
   "source": [
    "#each url's leak_type and count of leaks\n",
    "final_count\n",
    "# TODO: \n",
    "#-->> get rid of \"Nones\" keys as a seperate output\n",
    "#--- also nicer outputs (*****in a text file -- f strings) w/ formatting\n",
    "#summary stats --> eg. total number of id leaks, percentages \n",
    "# SORTING"
   ]
  },
  {
   "cell_type": "code",
   "execution_count": 65,
   "id": "e61b3747",
   "metadata": {},
   "outputs": [
    {
     "data": {
      "text/plain": [
       "76"
      ]
     },
     "execution_count": 65,
     "metadata": {},
     "output_type": "execute_result"
    }
   ],
   "source": [
    "#going thru and deleting empty vals\n",
    "for key, value in final_count.items(): \n",
    "    if value == None:\n",
    "        final_count.pop(key)\n",
    "len(final_count)"
   ]
  },
  {
   "cell_type": "code",
   "execution_count": 66,
   "id": "f8f9414c",
   "metadata": {},
   "outputs": [
    {
     "data": {
      "text/plain": [
       "{'http://google.com': {'None': 101748,\n",
       "  ('email', 'lastname'): 180,\n",
       "  ('id',): 22,\n",
       "  ('lastname',): 161619,\n",
       "  ('preferredname',): 33,\n",
       "  ('firstname', 'preferredname'): 415,\n",
       "  ('firstname',): 410,\n",
       "  ('firstname', 'lastname'): 9,\n",
       "  ('id', 'lastname'): 297,\n",
       "  ('firstname', 'lastname', 'preferredname'): 12706,\n",
       "  ('lastname', 'preferredname'): 7,\n",
       "  ('phone', 'preferredname'): 25,\n",
       "  ('email', 'id', 'lastname'): 2},\n",
       " 'http://heap.io': {'None': 26, ('lastname',): 5},\n",
       " 'http://cloudflare.com': {'None': 54,\n",
       "  ('lastname',): 17,\n",
       "  ('preferredname',): 1},\n",
       " 'http://twitter.com': {'None': 736, ('lastname',): 2, ('preferredname',): 15},\n",
       " 'http://intuit.com': {('lastname',): 8},\n",
       " 'http://facebook.com': {'None': 434,\n",
       "  ('lastname',): 3048,\n",
       "  ('id', 'lastname'): 9,\n",
       "  ('preferredname',): 4},\n",
       " 'http://newrelic.com': {'None': 1, ('lastname',): 142},\n",
       " 'http://microsoft.com': {'None': 744,\n",
       "  ('lastname',): 687,\n",
       "  ('lastname', 'preferredname'): 2,\n",
       "  ('id', 'lastname'): 1,\n",
       "  ('email', 'lastname'): 1},\n",
       " 'http://akamai.com': {'None': 1, ('lastname',): 3},\n",
       " 'http://segment.io': {'None': 23},\n",
       " 'http://amazon.com': {'None': 434,\n",
       "  ('lastname',): 866,\n",
       "  ('id', 'lastname'): 9,\n",
       "  ('lastname', 'preferredname'): 1,\n",
       "  ('preferredname',): 1,\n",
       "  ('id',): 1},\n",
       " 'http://quantcast.com': {'None': 32},\n",
       " 'http://comscore.com': {'None': 53, ('lastname',): 52},\n",
       " 'http://pubmatic.com': {'None': 818,\n",
       "  ('lastname',): 76,\n",
       "  ('preferredname',): 1},\n",
       " 'http://optimizely.com': {'None': 8, ('lastname',): 2},\n",
       " 'http://fullstory.com': {},\n",
       " 'http://magnite.com': {('lastname',): 20, 'None': 258},\n",
       " 'http://verizon.com': {('lastname',): 33, 'None': 254},\n",
       " 'http://teads.tv': {('lastname',): 21, 'None': 242},\n",
       " 'http://sonobi.com': {('lastname',): 21, 'None': 251},\n",
       " 'http://media.net': {('lastname',): 20, 'None': 255},\n",
       " 'http://sharethrough.com': {('lastname',): 19, 'None': 281},\n",
       " 'http://automattic.com': {('lastname',): 42},\n",
       " 'http://smartadserver.com': {('lastname',): 1, 'None': 2},\n",
       " 'http://casalemedia.com': {('lastname',): 3, 'None': 20},\n",
       " 'http://33across.com': {('lastname',): 6, 'None': 4},\n",
       " 'http://adyoulike.com': {('lastname',): 2, 'None': 1},\n",
       " 'http://triplelift.com': {'None': 31, ('lastname',): 2},\n",
       " 'http://iponweb.com': {('lastname',): 5, 'None': 11},\n",
       " 'http://smaato.com': {'None': 1},\n",
       " 'http://gumgum.com': {'None': 1},\n",
       " 'http://id5.io': {'None': 43},\n",
       " 'http://oracle.com': {('lastname',): 3, ('id', 'lastname'): 12, 'None': 3},\n",
       " 'http://criteo.com': {('lastname',): 15, 'None': 45},\n",
       " 'http://ebay.com': {},\n",
       " 'http://redditinc.com': {('lastname',): 3, 'None': 1},\n",
       " 'http://adobe.com': {('lastname',): 121, 'None': 5},\n",
       " 'http://brightcove.com': {},\n",
       " 'http://chartbeat.com': {('lastname',): 1},\n",
       " 'http://brandmetrics.com': {},\n",
       " 'http://thetradedesk.com': {'None': 10},\n",
       " 'http://iteratehq.com': {},\n",
       " 'http://adlightning.com': {'None': 109,\n",
       "  ('lastname',): 1,\n",
       "  ('preferredname',): 1},\n",
       " 'http://conversantmedia.com': {'None': 14},\n",
       " 'http://lotame.com': {'None': 15},\n",
       " 'http://openx.com': {'None': 5},\n",
       " 'http://zetaglobal.com': {},\n",
       " 'http://pulsepoint.com': {'None': 3},\n",
       " 'http://stackadapt.com': {'None': 1},\n",
       " 'http://intentiq.com': {'None': 9},\n",
       " 'http://tapad.com': {'None': 8},\n",
       " 'http://mediamath.com': {'None': 4},\n",
       " 'http://proclivitysystems.com': {},\n",
       " 'http://ipredictive.com': {'None': 1},\n",
       " 'http://primis.tech': {},\n",
       " 'http://sovrn.com': {'None': 7},\n",
       " 'http://beeswax.com': {'None': 3},\n",
       " 'http://rhythmone.com': {'None': 1},\n",
       " 'http://unruly.co': {'None': 1},\n",
       " 'http://disqus.com': {'None': 5},\n",
       " 'http://bouncex.com': {'None': 11},\n",
       " 'http://platform161.com': {'None': 1},\n",
       " 'http://adform.com': {},\n",
       " 'http://rtbhouse.com': {},\n",
       " 'http://outbrain.com': {'None': 3},\n",
       " 'http://demandbase.com': {('lastname',): 17, 'None': 2},\n",
       " 'http://doubleverify.com': {'None': 3},\n",
       " 'http://deepintent.com': {},\n",
       " 'http://nielsen.com': {},\n",
       " 'http://amplitude.com': {'None': 26, ('lastname',): 3},\n",
       " 'http://roku.com': {},\n",
       " 'http://storygize.com': {},\n",
       " 'http://adkernel.com': {},\n",
       " 'http://loopme.com': {},\n",
       " 'http://paypal.com': {('lastname',): 10, 'None': 2},\n",
       " 'http://addtoany.com': {}}"
      ]
     },
     "execution_count": 66,
     "metadata": {},
     "output_type": "execute_result"
    }
   ],
   "source": [
    "final_count"
   ]
  },
  {
   "cell_type": "markdown",
   "id": "e3cc5a02",
   "metadata": {},
   "source": [
    "ideal output: <br>\n",
    "\n",
    "{ 'website.com': {<br>\n",
    "&emsp;&emsp;    field_name_1: 23 <br>\n",
    "&emsp;&emsp;    field_name_2: 34 <br>\n",
    "&emsp;&emsp;    field_name_3: 12<br>\n",
    "&emsp;&emsp;        }<br>\n",
    "   'website2.com': {<br>\n",
    "     &emsp;&emsp;  field_name_2: 124<br>\n",
    "     &emsp;&emsp;  field_name_4: 81<br>\n",
    " &emsp;&emsp;    } <br>\n",
    "}"
   ]
  },
  {
   "cell_type": "code",
   "execution_count": null,
   "id": "cfd3e7e9",
   "metadata": {},
   "outputs": [],
   "source": [
    "a = list(sorted_count_urls.keys())\n",
    "a[0:14]"
   ]
  },
  {
   "cell_type": "markdown",
   "id": "5d20e4ab",
   "metadata": {},
   "source": [
    "Questions: \n",
    "- why are we picking up so many None types even after passing data thru filters?\n",
    "- We should clean out the companies that have empty fields and \n",
    "        - 1) make a proportion measurement of empty to non empty\n",
    "        - 2) add a filter hashtag to the companies by maybe doing easy webcrawl/nlp search and assigning if company is #media, #tech ... and then maybe categorize level of harm that the leaks are\n",
    "- what prof. marshini said, about cateogiring by user instead of company"
   ]
  },
  {
   "cell_type": "markdown",
   "id": "bbaf7163",
   "metadata": {},
   "source": []
  },
  {
   "cell_type": "markdown",
   "id": "24ef26c7",
   "metadata": {},
   "source": [
    "## sorting by user"
   ]
  },
  {
   "cell_type": "code",
   "execution_count": 39,
   "id": "1ebb7c8f",
   "metadata": {},
   "outputs": [],
   "source": [
    "#user id, and count how many times that user comes up\n",
    "list_user = []\n",
    "c = 0\n",
    "for i in filtered_data: \n",
    "    a = i.get('report')['user_id']\n",
    "    list_user.append(a)\n",
    "    c += 1"
   ]
  },
  {
   "cell_type": "code",
   "execution_count": 41,
   "id": "81123a8b",
   "metadata": {},
   "outputs": [
    {
     "data": {
      "text/plain": [
       "533229"
      ]
     },
     "execution_count": 41,
     "metadata": {},
     "output_type": "execute_result"
    }
   ],
   "source": [
    "len(list_user)"
   ]
  },
  {
   "cell_type": "code",
   "execution_count": 42,
   "id": "92c9113d",
   "metadata": {},
   "outputs": [
    {
     "data": {
      "text/plain": [
       "{'dknglbh1h3': 147075,\n",
       " '2wpdvj73oou': 120917,\n",
       " 'zu7pjmkeoi': 99367,\n",
       " 's4ni7dbb7y': 80690,\n",
       " '4485kqex0zs': 57416,\n",
       " 'grr97iqp57r': 15253,\n",
       " '9tgpozqqg7d': 7127,\n",
       " 'kix7pup4zh': 3358,\n",
       " 'd1wgiodc53k': 724,\n",
       " '699mztw4z75': 494,\n",
       " 'jktgjnvw8r': 180,\n",
       " 'zoumk7kg3yq': 155,\n",
       " 'l9duvpdz9m8': 119,\n",
       " '80yfsk3rrlc': 112,\n",
       " '4q68v2cg2pl': 90,\n",
       " 'zwq78tx53ib': 74,\n",
       " '5tpckk3d14e': 53,\n",
       " 'y9y0arr5kpm': 18,\n",
       " 'p0fjtio4mr': 7}"
      ]
     },
     "execution_count": 42,
     "metadata": {},
     "output_type": "execute_result"
    }
   ],
   "source": [
    "simple_produce_count(list_user)"
   ]
  },
  {
   "cell_type": "code",
   "execution_count": 54,
   "id": "6d72e3bf",
   "metadata": {},
   "outputs": [
    {
     "data": {
      "text/plain": [
       "dict"
      ]
     },
     "execution_count": 54,
     "metadata": {},
     "output_type": "execute_result"
    }
   ],
   "source": [
    "#connecting user_id, and what types of fields are leaked and how many times they are found\n",
    "dict_user_leak = {}\n",
    "\n",
    "for i in filtered_data: \n",
    "    report = i['report']\n",
    "    #getting user (which will be the keys)\n",
    "    user = report[\"user_id\"]\n",
    "    #getting leak types (which will be the keys for the nested dict for each url)\n",
    "    if report['url_leak_type'] == None: \n",
    "        leak_type = \"None\"\n",
    "    else: \n",
    "        leak_type = report['url_leak_type']\n",
    "        leak_type = tuple(sorted(leak_type)) #ADDING THE SORTED REMOVES FIELD DUPLICATES\n",
    "\n",
    "    if user in dict_user_leak: \n",
    "        #dic.get('b') == None: <-- another way to find \n",
    "        if leak_type in dict_user_leak[user]: \n",
    "            dict_user_leak[user][leak_type] += 1\n",
    "        else: \n",
    "            dict_user_leak[user][leak_type] = 1\n",
    "    else: \n",
    "        dict_user_leak[user] = {} #results in empty field dicts for some urls\n",
    "\n",
    "type(dict_user_leak)"
   ]
  },
  {
   "cell_type": "code",
   "execution_count": 70,
   "id": "76ab0456",
   "metadata": {},
   "outputs": [
    {
     "data": {
      "text/plain": [
       "{'d1wgiodc53k': {'None': 678,\n",
       "  ('email', 'lastname'): 38,\n",
       "  ('id',): 3,\n",
       "  ('lastname',): 4},\n",
       " '2wpdvj73oou': {'None': 120916},\n",
       " 'zwq78tx53ib': {'None': 69, ('email', 'lastname'): 4},\n",
       " 'zoumk7kg3yq': {'None': 149, ('preferredname',): 5},\n",
       " '9tgpozqqg7d': {'None': 7109,\n",
       "  ('email', 'lastname'): 6,\n",
       "  ('email',): 10,\n",
       "  ('lastname',): 1},\n",
       " 's4ni7dbb7y': {'None': 80293,\n",
       "  ('firstname', 'preferredname'): 391,\n",
       "  ('email', 'firstname', 'preferredname'): 4,\n",
       "  ('firstname', 'lastname', 'preferredname'): 1},\n",
       " '5tpckk3d14e': {('preferredname',): 51, 'None': 1},\n",
       " 'grr97iqp57r': {'None': 15245,\n",
       "  ('email', 'lastname'): 2,\n",
       "  ('firstname', 'lastname', 'preferredname'): 5},\n",
       " 'kix7pup4zh': {'None': 3353, ('preferredname',): 4},\n",
       " '699mztw4z75': {('firstname',): 461,\n",
       "  'None': 23,\n",
       "  ('firstname', 'lastname'): 9},\n",
       " 'dknglbh1h3': {'None': 264,\n",
       "  ('lastname',): 133373,\n",
       "  ('id', 'lastname'): 712,\n",
       "  ('firstname', 'lastname', 'preferredname'): 12725},\n",
       " 'p0fjtio4mr': {'None': 6},\n",
       " '80yfsk3rrlc': {'None': 110, ('lastname',): 1},\n",
       " 'zu7pjmkeoi': {('lastname',): 98736,\n",
       "  'None': 266,\n",
       "  ('email', 'lastname'): 218,\n",
       "  ('id', 'lastname'): 67,\n",
       "  ('lastname', 'preferredname'): 74,\n",
       "  ('email', 'lastname', 'preferredname'): 5},\n",
       " '4485kqex0zs': {'None': 57374, ('firstname', 'preferredname'): 41},\n",
       " '4q68v2cg2pl': {'None': 43,\n",
       "  ('phone', 'preferredname'): 26,\n",
       "  ('email', 'id', 'lastname'): 2,\n",
       "  ('preferredname',): 15,\n",
       "  ('id',): 3},\n",
       " 'l9duvpdz9m8': {('preferredname',): 117, 'None': 1},\n",
       " 'y9y0arr5kpm': {'None': 16, ('firstname', 'lastname'): 1},\n",
       " 'jktgjnvw8r': {'None': 62, ('firstname',): 98, ('id',): 19}}"
      ]
     },
     "execution_count": 70,
     "metadata": {},
     "output_type": "execute_result"
    }
   ],
   "source": [
    "dict_user_leak\n",
    "#TO-DO: \n",
    "#print out statistics -- by each user, percentages by user, then break down by leak type\n",
    "#also by leak type break down by user (eg. heading: [\"Emails\"], how many leaks goes to each user)\n",
    "#go thru extension and sort some data and go ask jake to send recent json (make sure user details matches websites that i go on)"
   ]
  },
  {
   "cell_type": "code",
   "execution_count": 69,
   "id": "b8b5800f",
   "metadata": {},
   "outputs": [
    {
     "data": {
      "text/plain": [
       "19"
      ]
     },
     "execution_count": 69,
     "metadata": {},
     "output_type": "execute_result"
    }
   ],
   "source": [
    "len(dict_user_leak.keys())"
   ]
  },
  {
   "cell_type": "code",
   "execution_count": null,
   "id": "8b0290e5",
   "metadata": {},
   "outputs": [],
   "source": []
  },
  {
   "cell_type": "code",
   "execution_count": null,
   "id": "17805b62",
   "metadata": {},
   "outputs": [],
   "source": []
  }
 ],
 "metadata": {
  "kernelspec": {
   "display_name": "Python 3 (ipykernel)",
   "language": "python",
   "name": "python3"
  },
  "language_info": {
   "codemirror_mode": {
    "name": "ipython",
    "version": 3
   },
   "file_extension": ".py",
   "mimetype": "text/x-python",
   "name": "python",
   "nbconvert_exporter": "python",
   "pygments_lexer": "ipython3",
   "version": "3.9.7"
  }
 },
 "nbformat": 4,
 "nbformat_minor": 5
}
