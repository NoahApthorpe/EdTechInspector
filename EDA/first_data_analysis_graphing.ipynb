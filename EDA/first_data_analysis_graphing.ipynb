{
 "cells": [
  {
   "cell_type": "code",
   "execution_count": null,
   "id": "bfc5aab2",
   "metadata": {},
   "outputs": [],
   "source": [
    "import json\n",
    "import plotly.express as px\n",
    "#import seaborn as sns \n",
    "#import matplotlib.pyplot as plt"
   ]
  },
  {
   "cell_type": "code",
   "execution_count": null,
   "id": "f205a5cc",
   "metadata": {},
   "outputs": [],
   "source": [
    "mainfile = \"result_2023_6_8.json\"\n",
    "smallfile = \"results_2023_5_31.json\""
   ]
  },
  {
   "cell_type": "code",
   "execution_count": null,
   "id": "d2232d5b",
   "metadata": {},
   "outputs": [],
   "source": [
    "maindata = []\n",
    "with open(mainfile, 'r') as f:\n",
    "  for entry in f:\n",
    "      oneEntry = json.loads(entry)\n",
    "      maindata.append(oneEntry)"
   ]
  },
  {
   "cell_type": "code",
   "execution_count": null,
   "id": "2d6b720b",
   "metadata": {},
   "outputs": [],
   "source": [
    "filtered_data = []\n",
    "for d in maindata: \n",
    "  if d.get('report') != None: #not empty\n",
    "    if d.get('report').get('user_id') != None: \n",
    "      filtered_data.append(d)"
   ]
  },
  {
   "cell_type": "code",
   "execution_count": null,
   "id": "ffb6aeab",
   "metadata": {},
   "outputs": [],
   "source": [
    "type(maindata)"
   ]
  },
  {
   "cell_type": "code",
   "execution_count": null,
   "id": "3064a262",
   "metadata": {},
   "outputs": [],
   "source": [
    "print(len(maindata),\n",
    "len(filtered_data))"
   ]
  },
  {
   "cell_type": "code",
   "execution_count": null,
   "id": "684560ca",
   "metadata": {},
   "outputs": [],
   "source": [
    "empty_data = []\n",
    "for d in maindata: \n",
    "    if d.get('report') != None: \n",
    "        if d.get('report').get('user_id') == None:\n",
    "            empty_data.append(d)"
   ]
  },
  {
   "cell_type": "code",
   "execution_count": null,
   "id": "9ec5eb8e",
   "metadata": {},
   "outputs": [],
   "source": [
    "len(empty_data)"
   ]
  },
  {
   "cell_type": "code",
   "execution_count": null,
   "id": "1bae1ef2",
   "metadata": {},
   "outputs": [],
   "source": [
    "len(empty_data)/len(maindata)"
   ]
  },
  {
   "cell_type": "code",
   "execution_count": null,
   "id": "4e63cf8c",
   "metadata": {},
   "outputs": [],
   "source": [
    "len(filtered_data)"
   ]
  },
  {
   "cell_type": "code",
   "execution_count": null,
   "id": "8a589fd1",
   "metadata": {},
   "outputs": [],
   "source": [
    "filtered_data[2]"
   ]
  },
  {
   "cell_type": "code",
   "execution_count": null,
   "id": "2dc11c57",
   "metadata": {},
   "outputs": [],
   "source": [
    "'''example'''\n",
    "print(filtered_data[0]['report']['tracker_info']['tracker']['owner']['url'])"
   ]
  },
  {
   "cell_type": "code",
   "execution_count": null,
   "id": "11b5a830",
   "metadata": {},
   "outputs": [],
   "source": [
    "#get all urls in a list\n",
    "urls = []\n",
    "for d in filtered_data: \n",
    "    rep = d['report']\n",
    "    if rep.get('tracker_info') != None: #some reports do not have tracker info\n",
    "        if rep['tracker_info'].get('tracker').get('owner').get('url') != None: #all reports with tracker info, have the following\n",
    "            urls.append(d['report']['tracker_info']['tracker']['owner']['url'])\n",
    "print(len(urls))"
   ]
  },
  {
   "cell_type": "code",
   "execution_count": null,
   "id": "72d4ba03",
   "metadata": {},
   "outputs": [],
   "source": [
    "print(urls[0:10])"
   ]
  },
  {
   "cell_type": "code",
   "execution_count": null,
   "id": "3021b711",
   "metadata": {},
   "outputs": [],
   "source": [
    "len(urls)/len(filtered_data)"
   ]
  },
  {
   "cell_type": "code",
   "execution_count": null,
   "id": "8d0dda7a",
   "metadata": {},
   "outputs": [],
   "source": [
    "print(len(set(urls)))"
   ]
  },
  {
   "cell_type": "code",
   "execution_count": null,
   "id": "eaf26669",
   "metadata": {},
   "outputs": [],
   "source": [
    "def simple_produce_count(list):\n",
    "    count_d = {}\n",
    "    for i in list: \n",
    "        if i in count_d: \n",
    "            a = count_d.get(i)\n",
    "            count_d[i] = a + 1\n",
    "        else: \n",
    "            count_d[i] = 1\n",
    "            \n",
    "    return dict(sorted(count_d.items(), key=lambda x:x[1], reverse = True))"
   ]
  },
  {
   "cell_type": "code",
   "execution_count": null,
   "id": "89c30421",
   "metadata": {},
   "outputs": [],
   "source": [
    "type(simple_produce_count(urls))"
   ]
  },
  {
   "cell_type": "code",
   "execution_count": null,
   "id": "50244ff0",
   "metadata": {},
   "outputs": [],
   "source": [
    "#counting how many times a url appears in the reports, and sorting in order\n",
    "sorted_count_urls = produce_count_dict(urls)\n",
    "sorted_count_urls"
   ]
  },
  {
   "cell_type": "markdown",
   "id": "6d65ad1e",
   "metadata": {},
   "source": [
    "interesting websites from a bird eye view: \n",
    "- a few web add related websites (eg. tradedesk, smartadserver, adyoulike, adform, gumgum)\n",
    "- paypal has 13 findings --> google, amazon also have credit card details\n",
    "\n",
    "also, interesting is to look at the top ones with obscure websites eg. \n",
    " ('http://pubmatic.com', 896), --> media company \"digital marketing\" \n",
    " ('http://sharethrough.com', 301), --> \"human centric programmatic advertising\" \n",
    " \n",
    "I guess this makes sense that these are the ones picked up, as they do collect user data"
   ]
  },
  {
   "cell_type": "markdown",
   "id": "ef45a27f",
   "metadata": {},
   "source": [
    "## What the data is"
   ]
  },
  {
   "cell_type": "code",
   "execution_count": null,
   "id": "9044c09d",
   "metadata": {},
   "outputs": [],
   "source": [
    "example_report = filtered_data[3]['report']\n",
    "example_report"
   ]
  },
  {
   "cell_type": "code",
   "execution_count": null,
   "id": "48a4e295",
   "metadata": {},
   "outputs": [],
   "source": [
    "#what is leak_url and what is url_leak_type\n",
    "leak_type = []\n",
    "\n",
    "for i in filtered_data: \n",
    "    if i.get('report') != None: \n",
    "        leak_type.append(i['report']['url_leak_type'])\n",
    "        \n",
    "print(len(leak_type))"
   ]
  },
  {
   "cell_type": "code",
   "execution_count": null,
   "id": "234f3f75",
   "metadata": {},
   "outputs": [],
   "source": [
    "nonempty_leak_type = []\n",
    "for i in leak_type: \n",
    "    if i != None: \n",
    "        nonempty_leak_type.append(i)"
   ]
  },
  {
   "cell_type": "code",
   "execution_count": null,
   "id": "53490036",
   "metadata": {},
   "outputs": [],
   "source": [
    "print(len(nonempty_leak_type), nonempty_leak_type[1], type(nonempty_leak_type[1]))"
   ]
  },
  {
   "cell_type": "code",
   "execution_count": null,
   "id": "7359fdc2",
   "metadata": {},
   "outputs": [],
   "source": [
    "def return_unique(l: list): \n",
    "    '''\n",
    "    A function that does the same thing as a set(), but for unhashable types\n",
    "    '''\n",
    "    a = set()\n",
    "    \n",
    "    [[a.add(field) for field in item] for item in l]\n",
    "\n",
    "    return a"
   ]
  },
  {
   "cell_type": "code",
   "execution_count": null,
   "id": "3d36d4d6",
   "metadata": {},
   "outputs": [],
   "source": [
    "return_unique(nonempty_leak_type)"
   ]
  },
  {
   "cell_type": "code",
   "execution_count": null,
   "id": "1491952d",
   "metadata": {},
   "outputs": [],
   "source": [
    "test_1 = list(set(tuple(sorted(sub)) for sub in nonempty_leak_type))\n",
    "test_1"
   ]
  },
  {
   "cell_type": "code",
   "execution_count": null,
   "id": "1e6dc733",
   "metadata": {},
   "outputs": [],
   "source": [
    "def produce_count_dict(l):\n",
    "    d_keys = list(set(tuple(sorted(sub)) for sub in l))\n",
    "    count_d = {field: None for field in d_keys}\n",
    "    for i in l: \n",
    "        if sorted(i) in count_d: \n",
    "            a = count_d.get(j)\n",
    "            count_d[j] = a + 1\n",
    "        else: \n",
    "            count_d[j] = 1\n",
    "    #sorting data\n",
    "    sorted_count = sorted(count_d.items(), key=lambda x:x[1], reverse = True)\n",
    "\n",
    "    return count_d"
   ]
  },
  {
   "cell_type": "code",
   "execution_count": null,
   "id": "83c5f267",
   "metadata": {},
   "outputs": [],
   "source": [
    "for i in filtered_data: \n",
    "    pass\n",
    "filtered_data[12]['report']"
   ]
  },
  {
   "cell_type": "markdown",
   "id": "7a6ec7e3",
   "metadata": {},
   "source": [
    "things to do next\n",
    "- script to output a markdown/text file outputting the da\n",
    "- potential graphs\n",
    "- understanding trends (time series)\n",
    "- other types of data to look at \n",
    "- especially under fb/google/etc\n",
    "\n",
    "- create a started page for extension \n",
    "- then group by User\n",
    "\n",
    "also, explain what one entry is\n",
    "- does the order of the field counted matter? \n",
    "- should we open these tuples and sort by field itself, or as a packaged tuple"
   ]
  },
  {
   "cell_type": "markdown",
   "id": "c65cd456",
   "metadata": {},
   "source": [
    "## connecting field types with company"
   ]
  },
  {
   "cell_type": "code",
   "execution_count": null,
   "id": "748bbbb2",
   "metadata": {},
   "outputs": [],
   "source": [
    "final_count = {}\n",
    "\n",
    "for i in filtered_data: \n",
    "    if i['report'].get('tracker_info') != None: #some reports do not have tracker info\n",
    "        if i['report']['tracker_info'].get('tracker').get('owner').get('url') != None: #all reports w/ tracker info has the owner/url link\n",
    "            #getting urls (which will be the keys)\n",
    "            url = i['report']['tracker_info']['tracker']['owner']['url']\n",
    "            #getting leak types (which will be the keys for the nested dict for each url)\n",
    "            if i['report']['url_leak_type'] is None: \n",
    "                leak_type = \"None\"\n",
    "            else: \n",
    "                leak_type = i['report']['url_leak_type']\n",
    "                leak_type = tuple(sorted(leak_type)) #ADDING THE SORTED REMOVES FIELD DUPLICATES\n",
    "                            \n",
    "            if url in final_count: \n",
    "                #dic.get('b') == None: <-- another way to find \n",
    "                if leak_type in final_count[url]: \n",
    "                    final_count[url][leak_type] += 1\n",
    "                else: \n",
    "                    final_count[url][leak_type] = 1\n",
    "            else: \n",
    "                final_count[url] = {} #results in empty field dicts for some urls\n",
    "                \n",
    "len(final_count)"
   ]
  },
  {
   "cell_type": "code",
   "execution_count": null,
   "id": "481e09dd",
   "metadata": {
    "scrolled": true
   },
   "outputs": [],
   "source": [
    "#each url's leak_type and count of leaks\n",
    "final_count\n",
    "# TODO: \n",
    "#-->> get rid of \"Nones\" keys as a seperate output\n",
    "#--- also nicer outputs (*****in a text file -- f strings) w/ formatting\n",
    "#summary stats --> eg. total number of id leaks, percentages \n",
    "# SORTING"
   ]
  },
  {
   "cell_type": "code",
   "execution_count": null,
   "id": "e61b3747",
   "metadata": {},
   "outputs": [],
   "source": [
    "#going thru and deleting empty vals\n",
    "for key, value in final_count.items(): \n",
    "    if value == None:\n",
    "        final_count.pop(key)\n",
    "len(final_count)"
   ]
  },
  {
   "cell_type": "code",
   "execution_count": null,
   "id": "f8f9414c",
   "metadata": {},
   "outputs": [],
   "source": [
    "final_count"
   ]
  },
  {
   "cell_type": "markdown",
   "id": "e3cc5a02",
   "metadata": {},
   "source": [
    "ideal output: <br>\n",
    "\n",
    "{ 'website.com': {<br>\n",
    "&emsp;&emsp;    field_name_1: 23 <br>\n",
    "&emsp;&emsp;    field_name_2: 34 <br>\n",
    "&emsp;&emsp;    field_name_3: 12<br>\n",
    "&emsp;&emsp;        }<br>\n",
    "   'website2.com': {<br>\n",
    "     &emsp;&emsp;  field_name_2: 124<br>\n",
    "     &emsp;&emsp;  field_name_4: 81<br>\n",
    " &emsp;&emsp;    } <br>\n",
    "}"
   ]
  },
  {
   "cell_type": "code",
   "execution_count": null,
   "id": "cfd3e7e9",
   "metadata": {},
   "outputs": [],
   "source": [
    "a = list(sorted_count_urls.keys())\n",
    "a[0:14]"
   ]
  },
  {
   "cell_type": "markdown",
   "id": "5d20e4ab",
   "metadata": {},
   "source": [
    "Questions: \n",
    "- why are we picking up so many None types even after passing data thru filters?\n",
    "- We should clean out the companies that have empty fields and \n",
    "        - 1) make a proportion measurement of empty to non empty\n",
    "        - 2) add a filter hashtag to the companies by maybe doing easy webcrawl/nlp search and assigning if company is #media, #tech ... and then maybe categorize level of harm that the leaks are\n",
    "- what prof. marshini said, about cateogiring by user instead of company"
   ]
  },
  {
   "cell_type": "markdown",
   "id": "bbaf7163",
   "metadata": {},
   "source": []
  },
  {
   "cell_type": "markdown",
   "id": "24ef26c7",
   "metadata": {},
   "source": [
    "## sorting by user"
   ]
  },
  {
   "cell_type": "code",
   "execution_count": null,
   "id": "1ebb7c8f",
   "metadata": {},
   "outputs": [],
   "source": [
    "#user id, and count how many times that user comes up\n",
    "list_user = []\n",
    "c = 0\n",
    "for i in filtered_data: \n",
    "    a = i.get('report')['user_id']\n",
    "    list_user.append(a)\n",
    "    c += 1"
   ]
  },
  {
   "cell_type": "code",
   "execution_count": null,
   "id": "81123a8b",
   "metadata": {},
   "outputs": [],
   "source": [
    "len(list_user)"
   ]
  },
  {
   "cell_type": "code",
   "execution_count": null,
   "id": "92c9113d",
   "metadata": {},
   "outputs": [],
   "source": [
    "simple_produce_count(list_user)"
   ]
  },
  {
   "cell_type": "code",
   "execution_count": null,
   "id": "6d72e3bf",
   "metadata": {},
   "outputs": [],
   "source": [
    "#connecting user_id, and what types of fields are leaked and how many times they are found\n",
    "dict_user_leak = {}\n",
    "\n",
    "for i in filtered_data: \n",
    "    report = i['report']\n",
    "    #getting user (which will be the keys)\n",
    "    user = report[\"user_id\"]\n",
    "    #getting leak types (which will be the keys for the nested dict for each url)\n",
    "    if report['url_leak_type'] == None: \n",
    "        leak_type = \"None\"\n",
    "    else: \n",
    "        leak_type = report['url_leak_type']\n",
    "        leak_type = tuple(sorted(leak_type)) #ADDING THE SORTED REMOVES FIELD DUPLICATES\n",
    "\n",
    "    if user in dict_user_leak: \n",
    "        #dic.get('b') == None: <-- another way to find \n",
    "        if leak_type in dict_user_leak[user]: \n",
    "            dict_user_leak[user][leak_type] += 1\n",
    "        else: \n",
    "            dict_user_leak[user][leak_type] = 1\n",
    "    else: \n",
    "        dict_user_leak[user] = {} #results in empty field dicts for some urls\n",
    "\n",
    "type(dict_user_leak)"
   ]
  },
  {
   "cell_type": "code",
   "execution_count": null,
   "id": "76ab0456",
   "metadata": {},
   "outputs": [],
   "source": [
    "dict_user_leak\n",
    "#TO-DO: \n",
    "#print out statistics -- by each user, percentages by user, then break down by leak type\n",
    "#also by leak type break down by user (eg. heading: [\"Emails\"], how many leaks goes to each user)\n",
    "#go thru extension and sort some data and go ask jake to send recent json (make sure user details matches websites that i go on)"
   ]
  },
  {
   "cell_type": "code",
   "execution_count": null,
   "id": "b8b5800f",
   "metadata": {
    "scrolled": true
   },
   "outputs": [],
   "source": [
    "len(dict_user_leak.keys())"
   ]
  },
  {
   "cell_type": "markdown",
   "id": "a6d5af14",
   "metadata": {},
   "source": [
    "Some functions for modifying the data to make graphing easier"
   ]
  },
  {
   "cell_type": "code",
   "execution_count": null,
   "id": "8b0290e5",
   "metadata": {},
   "outputs": [],
   "source": [
    "#updates the dictionary to count each data type leaked\n",
    "def update_dict(my_dict, key, value):\n",
    "    if key in my_dict:\n",
    "        my_dict[key] += value\n",
    "    else:\n",
    "        my_dict[key] = value\n",
    "\n",
    "\n",
    "\n",
    "#iterates through the output dictionary and outputs a count of each type of leak\n",
    "def leak_counts(nested_dict):\n",
    "    \n",
    "    output = {}\n",
    "\n",
    "    for outer_key, inner_dict in nested_dict.items():\n",
    "        for inner_key, inner_value in inner_dict.items():\n",
    "            \n",
    "            update_dict(output, inner_key, inner_value)       \n",
    "    \n",
    "    if 'None' in output:\n",
    "        del output['None']        \n",
    "    return output\n",
    "\n",
    "\n",
    "\n",
    "#Removes all 'None' entries and empty entries\n",
    "def remove_redundancies(nested_dict):\n",
    "  \n",
    "    for outer_key, inner_dict in nested_dict.items():\n",
    "        inner_dict = {key: value for key, value in inner_dict.items() if key is not 'None'}\n",
    "        nested_dict[outer_key] = inner_dict\n",
    "        \n",
    "    keys_to_remove = [outer_key for outer_key, inner_dict in nested_dict.items() if not inner_dict]\n",
    "    for key in keys_to_remove:\n",
    "        del nested_dict[key]\n",
    "\n",
    "        \n",
    "    return nested_dict\n",
    "\n",
    "\n",
    "\n",
    "\n",
    "#converts output dictionaries to graphable form\n",
    "def convert_dict_to_lists(my_dict):\n",
    "    keys_list = list(my_dict.keys())\n",
    "    values_list = list(my_dict.values())\n",
    "    return keys_list, values_list"
   ]
  },
  {
   "cell_type": "markdown",
   "id": "71a11773",
   "metadata": {},
   "source": [
    "Removing all empty and 'None' entries"
   ]
  },
  {
   "cell_type": "code",
   "execution_count": null,
   "id": "17805b62",
   "metadata": {},
   "outputs": [],
   "source": [
    "final_count = remove_redundancies(final_count)\n",
    "\n",
    "for key, value in final_count.items():\n",
    "        print(f\"{key}\")\n",
    "        \n",
    "        for key, value in value.items():\n",
    "            print(f\"{key}\"+\": \"+f\"{value}\")\n",
    "        print()"
   ]
  },
  {
   "cell_type": "code",
   "execution_count": null,
   "id": "b8d30026",
   "metadata": {},
   "outputs": [],
   "source": [
    "#Generate a graph with each leak type's frequency\n",
    "\n",
    "x_data_unprocessed, y_data = convert_dict_to_lists(leak_counts(final_count))\n",
    "\n",
    "x_data = [str(item) if isinstance(item, tuple) else item for item in x_data_unprocessed]\n",
    "\n",
    "\n",
    "print(x_data)\n",
    "print(y_data)\n",
    "\n",
    "\n",
    "sorted_data = sorted(zip(x_data, y_data), key=lambda x: x[1],reverse=True)\n",
    "x_data, y_data = zip(*sorted_data)\n",
    "\n",
    "\n",
    "fig = px.bar(x=x_data, y=y_data, log_y=True, labels={'x': 'Leak Type', 'y': 'Leak Count'}, title='Leak Counts by Type',color=x_data)\n",
    "\n",
    "fig.show()"
   ]
  },
  {
   "cell_type": "code",
   "execution_count": null,
   "id": "b5d6ee0a",
   "metadata": {},
   "outputs": [],
   "source": [
    "#Generate a graph with a count of the number of times each piece of data was leaked\n",
    "\n",
    "processing_data = leak_counts(final_count)\n",
    "\n",
    "all_data = {}\n",
    "for tup in processing_data.keys():\n",
    "    for string in tup:\n",
    "        all_data[string] = 0\n",
    "\n",
    "\n",
    "\n",
    "for tup in processing_data.keys():\n",
    "    value = processing_data[tup]\n",
    "    for string in tup:\n",
    "        all_data[string] += value\n",
    "\n",
    "        \n",
    "print(all_data)\n",
    "\n",
    "x_data_2, y_data_2 = convert_dict_to_lists(all_data)\n",
    "\n",
    "\n",
    "sorted_data_2 = sorted(zip(x_data_2, y_data_2), key=lambda x: x[1],reverse=True)\n",
    "x_data_2, y_data_2 = zip(*sorted_data_2)\n",
    "\n",
    "print(x_data_2)\n",
    "print(y_data_2)\n",
    "\n",
    "#x_data_2 = [\"Last Name\", \"First Name\", \"Preferred Name\", \"ID\", \"Email\", \"Phone #\"]\n",
    "\n",
    "fig2 = px.bar(x=x_data_2, y=y_data_2, log_y=True, labels={'x': 'Data Type', 'y': 'Times Leaked'}, title='What Information is Leaked Most Often',color=x_data_2)\n",
    "\n",
    "fig2.show()"
   ]
  }
 ],
 "metadata": {
  "kernelspec": {
   "display_name": "Python 3 (ipykernel)",
   "language": "python",
   "name": "python3"
  },
  "language_info": {
   "codemirror_mode": {
    "name": "ipython",
    "version": 3
   },
   "file_extension": ".py",
   "mimetype": "text/x-python",
   "name": "python",
   "nbconvert_exporter": "python",
   "pygments_lexer": "ipython3",
   "version": "3.9.7"
  }
 },
 "nbformat": 4,
 "nbformat_minor": 5
}
